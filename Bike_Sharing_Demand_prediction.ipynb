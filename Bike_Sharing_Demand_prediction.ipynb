{
  "nbformat": 4,
  "nbformat_minor": 0,
  "metadata": {
    "colab": {
      "private_outputs": true,
      "provenance": [],
      "collapsed_sections": [
        "yQaldy8SH6Dl",
        "PH-0ReGfmX4f",
        "mDgbUHAGgjLW",
        "K5QZ13OEpz2H",
        "lQ7QKXXCp7Bj",
        "448CDAPjqfQr",
        "KSlN3yHqYklG",
        "t6dVpIINYklI",
        "ijmpgYnKYklI",
        "-JiQyfWJYklI",
        "EM7whBJCYoAo",
        "fge-S5ZAYoAp",
        "85gYPyotYoAp",
        "RoGjAbkUYoAp",
        "4Of9eVA-YrdM",
        "iky9q4vBYrdO",
        "F6T5p64dYrdO",
        "y-Ehk30pYrdP",
        "bamQiAODYuh1",
        "QHF8YVU7Yuh3",
        "GwzvFGzlYuh3",
        "qYpmQ266Yuh3",
        "OH-pJp9IphqM",
        "bbFf2-_FphqN",
        "_ouA3fa0phqN",
        "Seke61FWphqN",
        "PIIx-8_IphqN",
        "t27r6nlMphqO",
        "r2jJGEOYphqO",
        "b0JNsNcRphqO",
        "BZR9WyysphqO",
        "jj7wYXLtphqO",
        "eZrbJ2SmphqO",
        "rFu4xreNphqO",
        "YJ55k-q6phqO",
        "gCFgpxoyphqP",
        "OVtJsKN_phqQ",
        "lssrdh5qphqQ",
        "U2RJ9gkRphqQ",
        "1M8mcRywphqQ",
        "tgIPom80phqQ",
        "JMzcOPDDphqR",
        "x-EpHcCOp1ci",
        "X_VqEhTip1ck",
        "8zGJKyg5p1ck",
        "PVzmfK_Ep1ck",
        "n3dbpmDWp1ck",
        "ylSl6qgtp1ck",
        "ZWILFDl5p1ck",
        "M7G43BXep1ck",
        "Ag9LCva-p1cl",
        "E6MkPsBcp1cl",
        "2cELzS2fp1cl",
        "3MPXvC8up1cl",
        "NC_X3p0fY2L0",
        "UV0SzAkaZNRQ",
        "YPEH6qLeZNRQ",
        "q29F0dvdveiT",
        "EXh0U9oCveiU",
        "22aHeOlLveiV",
        "gIfDvo9L0UH2"
      ],
      "include_colab_link": true
    },
    "kernelspec": {
      "name": "python3",
      "display_name": "Python 3"
    },
    "language_info": {
      "name": "python"
    }
  },
  "cells": [
    {
      "cell_type": "markdown",
      "metadata": {
        "id": "view-in-github",
        "colab_type": "text"
      },
      "source": [
        "<a href=\"https://colab.research.google.com/github/Mervin151111/Mervin19/blob/main/Bike_Sharing_Demand_prediction.ipynb\" target=\"_parent\"><img src=\"https://colab.research.google.com/assets/colab-badge.svg\" alt=\"Open In Colab\"/></a>"
      ]
    },
    {
      "cell_type": "markdown",
      "source": [
        "# **Project Name**    - Bike sharing Demand prediction\n",
        "\n"
      ],
      "metadata": {
        "id": "vncDsAP0Gaoa"
      }
    },
    {
      "cell_type": "markdown",
      "source": [
        "##### **Project Type**    - Regression\n",
        "##### **Contribution**    - Individual\n",
        "##### **Team Member 1 - Mervin Nester Pereira"
      ],
      "metadata": {
        "id": "beRrZCGUAJYm"
      }
    },
    {
      "cell_type": "markdown",
      "source": [
        "# **Project Summary -**"
      ],
      "metadata": {
        "id": "FJNUwmbgGyua"
      }
    },
    {
      "cell_type": "markdown",
      "source": [
        "Write the summary here within 500-600 words.\n",
        "\n",
        "The introduction of rental bikes in urban cities has become a popular mode of transportation for many people. It offers an easy and convenient way to travel around the city while also promoting a healthy lifestyle. However, the availability and accessibility of rental bikes at the right time is crucial for ensuring a smooth and efficient system. This requires accurate predictions of the bike count required at each hour for a stable supply of rental bikes.\n",
        "To make these predictions, several fields need to be considered. The date and hour of the day are essential factors to determine the demand for rental bikes, as different times of the day and days of the week can have varying levels of demand. Weather conditions such as temperature, wind speed, visibility, dew point temperature, solar radiation, rainfall, and snowfall can also affect the demand for rental bikes.\n",
        "Seasons and holidays are additional factors that can influence the demand for rental bikes. The four seasons - spring, summer, fall, and winter - can affect the demand due to weather patterns and different activities that people engage in during each season. Holidays, on the other hand, can also affect the demand for rental bikes due to changes in people's schedules and routines.\n",
        "\n",
        "In addition to predicting the demand for rental bikes, it is also important to ensure a stable supply of bikes throughout the day. This requires a continuous monitoring system that tracks the number of bikes available at each rental station and adjusts the supply accordingly. By doing so, users can have easy access to rental bikes at any time, and waiting times can be minimized.\n",
        "To achieve a stable supply of rental bikes, data analytics and machine learning algorithms can be used to analyze historical data and predict the demand for bikes at different times of the day. These algorithms can take into account various factors such as weather conditions, seasons, and holidays to make accurate predictions.\n",
        "\n",
        "Furthermore, data analytics can also be used to optimize the distribution of rental bikes across the city. By analyzing the usage patterns of rental bikes and the locations of rental stations, the system can identify areas with high demand and adjust the supply of bikes accordingly.\n",
        "In conclusion, the availability and accessibility of rental bikes at the right time is crucial for ensuring a smooth and efficient system. Accurate predictions of the demand for rental bikes at different times of the day, as well as a continuous monitoring system to ensure a stable supply of bikes, are essential for providing users with a convenient and reliable mode of transportation. Data analytics and machine learning algorithms can be used to analyze historical data and optimize the distribution of rental bikes across the city, further improving the system's efficiency."
      ],
      "metadata": {
        "id": "F6v_1wHtG2nS"
      }
    },
    {
      "cell_type": "markdown",
      "source": [
        "# **GitHub Link -**"
      ],
      "metadata": {
        "id": "w6K7xa23Elo4"
      }
    },
    {
      "cell_type": "markdown",
      "source": [
        "Provide your GitHub Link here."
      ],
      "metadata": {
        "id": "h1o69JH3Eqqn"
      }
    },
    {
      "cell_type": "markdown",
      "source": [
        "# **Problem Statement**\n"
      ],
      "metadata": {
        "id": "yQaldy8SH6Dl"
      }
    },
    {
      "cell_type": "markdown",
      "source": [
        "**Write Problem Statement Here.**\n",
        "\n",
        "Scenario is to predict the demand for rental bikes at different times of the day, taking into account various factors such as weather conditions, seasons, and holidays. The goal is to ensure a stable supply of rental bikes throughout the day, minimizing waiting times for users and promoting a smooth and efficient system. To achieve this, data analytics and machine learning algorithms can be used to analyze historical data and optimize the distribution of rental bikes across the city. The problem also involves setting up a continuous monitoring system to track the number of bikes available at each rental station and adjust the supply accordingly."
      ],
      "metadata": {
        "id": "DpeJGUA3kjGy"
      }
    },
    {
      "cell_type": "markdown",
      "source": [
        "#### **Define Your Business Objective?**"
      ],
      "metadata": {
        "id": "PH-0ReGfmX4f"
      }
    },
    {
      "cell_type": "markdown",
      "source": [
        "Answer Here.\n",
        "\n",
        "The business objective of the above problem statement is to provide a convenient and reliable mode of transportation for urban city dwellers through the use of rental bikes. The objective is to enhance mobility comfort by ensuring the availability and accessibility of rental bikes at the right time. To achieve this, the system aims to predict the demand for rental bikes at different times of the day and ensure a stable supply of bikes throughout the day, minimizing waiting times for users. The ultimate goal is to provide a smooth and efficient system that meets the transportation needs of urban city dwellers, promoting a healthy lifestyle and reducing carbon emissions from other modes of transportation. The business objective also includes optimizing the distribution of rental bikes across the city through data analytics and machine learning algorithms to improve the system's efficiency and reduce operational costs."
      ],
      "metadata": {
        "id": "PhDvGCAqmjP1"
      }
    },
    {
      "cell_type": "markdown",
      "source": [
        "# **General Guidelines** : -  "
      ],
      "metadata": {
        "id": "mDgbUHAGgjLW"
      }
    },
    {
      "cell_type": "markdown",
      "source": [
        "1.   Well-structured, formatted, and commented code is required. \n",
        "2.   Exception Handling, Production Grade Code & Deployment Ready Code will be a plus. Those students will be awarded some additional credits. \n",
        "     \n",
        "     The additional credits will have advantages over other students during Star Student selection.\n",
        "       \n",
        "             [ Note: - Deployment Ready Code is defined as, the whole .ipynb notebook should be executable in one go\n",
        "                       without a single error logged. ]\n",
        "\n",
        "3.   Each and every logic should have proper comments.\n",
        "4. You may add as many number of charts you want. Make Sure for each and every chart the following format should be answered.\n",
        "        \n",
        "\n",
        "```\n",
        "# Chart visualization code\n",
        "```\n",
        "            \n",
        "\n",
        "*   Why did you pick the specific chart?\n",
        "*   What is/are the insight(s) found from the chart?\n",
        "* Will the gained insights help creating a positive business impact? \n",
        "Are there any insights that lead to negative growth? Justify with specific reason.\n",
        "\n",
        "5. You have to create at least 20 logical & meaningful charts having important insights.\n",
        "\n",
        "\n",
        "[ Hints : - Do the Vizualization in  a structured way while following \"UBM\" Rule. \n",
        "\n",
        "U - Univariate Analysis,\n",
        "\n",
        "B - Bivariate Analysis (Numerical - Categorical, Numerical - Numerical, Categorical - Categorical)\n",
        "\n",
        "M - Multivariate Analysis\n",
        " ]\n",
        "\n",
        "\n",
        "\n"
      ],
      "metadata": {
        "id": "ZrxVaUj-hHfC"
      }
    },
    {
      "cell_type": "markdown",
      "source": [
        "# ***Let's Begin !***"
      ],
      "metadata": {
        "id": "O_i_v8NEhb9l"
      }
    },
    {
      "cell_type": "markdown",
      "source": [
        "## ***1. Know Your Data***"
      ],
      "metadata": {
        "id": "HhfV-JJviCcP"
      }
    },
    {
      "cell_type": "markdown",
      "source": [
        "### Import Libraries"
      ],
      "metadata": {
        "id": "Y3lxredqlCYt"
      }
    },
    {
      "cell_type": "code",
      "source": [
        "# Import Libraries\n",
        "\n",
        "import numpy as np\n",
        "import pandas as pd\n",
        "import seaborn as sns\n",
        "import matplotlib.pyplot as plt\n",
        "from sklearn.compose import ColumnTransformer\n",
        "from sklearn.model_selection import train_test_split\n",
        "from sklearn.metrics import accuracy_score\n",
        "from sklearn.tree import DecisionTreeClassifier\n",
        "\n",
        "from sklearn.ensemble import GradientBoostingRegressor\n",
        "from sklearn.preprocessing import StandardScaler, OneHotEncoder\n",
        "from sklearn.compose import ColumnTransformer\n",
        "from sklearn.ensemble import RandomForestRegressor\n",
        "from sklearn.pipeline import Pipeline\n",
        "from sklearn.model_selection import train_test_split\n",
        "from sklearn.metrics import r2_score\n",
        "\n"
      ],
      "metadata": {
        "id": "M8Vqi-pPk-HR"
      },
      "execution_count": null,
      "outputs": []
    },
    {
      "cell_type": "markdown",
      "source": [
        "### Dataset Loading"
      ],
      "metadata": {
        "id": "3RnN4peoiCZX"
      }
    },
    {
      "cell_type": "code",
      "source": [
        "# Load Dataset\n",
        "\n",
        "df = pd.read_csv(\"/content/SeoulBikeData.csv\",encoding=\"latin-1\")"
      ],
      "metadata": {
        "id": "4CkvbW_SlZ_R"
      },
      "execution_count": null,
      "outputs": []
    },
    {
      "cell_type": "markdown",
      "source": [
        "### Dataset First View"
      ],
      "metadata": {
        "id": "x71ZqKXriCWQ"
      }
    },
    {
      "cell_type": "code",
      "source": [
        "# Dataset First Look\n",
        "\n",
        "df.head(5)"
      ],
      "metadata": {
        "id": "LWNFOSvLl09H"
      },
      "execution_count": null,
      "outputs": []
    },
    {
      "cell_type": "markdown",
      "source": [
        "### Dataset Rows & Columns count"
      ],
      "metadata": {
        "id": "7hBIi_osiCS2"
      }
    },
    {
      "cell_type": "code",
      "source": [
        "# Dataset Rows & Columns count\n",
        "\n",
        "df.shape"
      ],
      "metadata": {
        "id": "Kllu7SJgmLij"
      },
      "execution_count": null,
      "outputs": []
    },
    {
      "cell_type": "markdown",
      "source": [
        "### Dataset Information"
      ],
      "metadata": {
        "id": "JlHwYmJAmNHm"
      }
    },
    {
      "cell_type": "code",
      "source": [
        "# Dataset Info\n",
        "\n",
        "df.info()"
      ],
      "metadata": {
        "id": "e9hRXRi6meOf"
      },
      "execution_count": null,
      "outputs": []
    },
    {
      "cell_type": "markdown",
      "source": [
        "#### Duplicate Values"
      ],
      "metadata": {
        "id": "35m5QtbWiB9F"
      }
    },
    {
      "cell_type": "code",
      "source": [
        "# Dataset Duplicate Value Count\n",
        "\n",
        "df.duplicated().sum()*100"
      ],
      "metadata": {
        "id": "1sLdpKYkmox0"
      },
      "execution_count": null,
      "outputs": []
    },
    {
      "cell_type": "markdown",
      "source": [
        "#### Missing Values/Null Values"
      ],
      "metadata": {
        "id": "PoPl-ycgm1ru"
      }
    },
    {
      "cell_type": "code",
      "source": [
        "# Missing Values/Null Values Count\n",
        "\n",
        "df.isnull().mean()*100"
      ],
      "metadata": {
        "id": "GgHWkxvamxVg"
      },
      "execution_count": null,
      "outputs": []
    },
    {
      "cell_type": "code",
      "source": [
        "# Visualizing the missing values\n",
        "\n",
        "sns.heatmap(df.isnull(),cmap=\"viridis\")\n",
        "plt.title(\"Missing values heatmap\")\n",
        "plt.show()\n",
        "\n",
        "# There are no missing values as the graph suggests"
      ],
      "metadata": {
        "id": "3q5wnI3om9sJ"
      },
      "execution_count": null,
      "outputs": []
    },
    {
      "cell_type": "markdown",
      "source": [
        "### What did you know about your dataset?"
      ],
      "metadata": {
        "id": "H0kj-8xxnORC"
      }
    },
    {
      "cell_type": "markdown",
      "source": [
        "Answer Here\n",
        "\n",
        "Based on the information provided, the problem at hand is to predict the bike rental demand for a bike-sharing service. The dataset includes several factors that are known to affect the bike rental demand, such as the temperature, humidity, wind speed, visibility, and time of day.\n",
        "\n",
        "The objective of this problem is to develop a model that can accurately predict the demand for rental bikes based on these factors, so that the bike-sharing company can optimize the number of bikes available for rent and provide a better service to its customers."
      ],
      "metadata": {
        "id": "gfoNAAC-nUe_"
      }
    },
    {
      "cell_type": "markdown",
      "source": [
        "## ***2. Understanding Your Variables***"
      ],
      "metadata": {
        "id": "nA9Y7ga8ng1Z"
      }
    },
    {
      "cell_type": "code",
      "source": [
        "# Dataset Columns\n",
        "\n",
        "df.columns"
      ],
      "metadata": {
        "id": "j7xfkqrt5Ag5"
      },
      "execution_count": null,
      "outputs": []
    },
    {
      "cell_type": "code",
      "source": [
        "# Dataset Describe\n",
        "\n",
        "df.describe()"
      ],
      "metadata": {
        "id": "DnOaZdaE5Q5t"
      },
      "execution_count": null,
      "outputs": []
    },
    {
      "cell_type": "markdown",
      "source": [
        "### Variables Description \n",
        "\n"
      ],
      "metadata": {
        "id": "PBTbrJXOngz2"
      }
    },
    {
      "cell_type": "markdown",
      "source": [
        "Answer Here\n",
        "\n",
        "The average number of rented bikes per hour is 704.60, with a minimum of 0 and a maximum of 3556.\n",
        "The average temperature is 12.88°C, with a minimum of -17.8°C and a maximum of 39.4°C.\n",
        "The average humidity is 58.23%, with a minimum of 0% and a maximum of 98%.\n",
        "The average wind speed is 1.72 m/s, with a minimum of 0 m/s and a maximum of 7.4 m/s.\n",
        "The average visibility is 1436.83 meters, with a minimum of 27 meters and a maximum of 2000 meters.\n",
        "The average dew point temperature is 4.07°C, with a minimum of -30.6°C and a maximum of 27.2°C.\n",
        "The average solar radiation is 0.57 MJ/m2, with a minimum of 0 MJ/m2 and a maximum of 3.52 MJ/m2.\n",
        "The average rainfall is 0.15 mm, with a minimum of 0 mm and a maximum of 35 mm.\n",
        "The average snowfall is 0.07 cm, with a minimum of 0 cm and a maximum of 8.8 cm."
      ],
      "metadata": {
        "id": "aJV4KIxSnxay"
      }
    },
    {
      "cell_type": "markdown",
      "source": [
        "### Check Unique Values for each variable."
      ],
      "metadata": {
        "id": "u3PMJOP6ngxN"
      }
    },
    {
      "cell_type": "code",
      "source": [
        "# Check Unique Values for categorical columns.\n",
        "\n",
        "for cols in [\"Seasons\",\"Holiday\",\"Functioning Day\"]:\n",
        "  print(cols  , df[cols].unique())"
      ],
      "metadata": {
        "id": "zms12Yq5n-jE"
      },
      "execution_count": null,
      "outputs": []
    },
    {
      "cell_type": "markdown",
      "source": [
        "## 3. ***Data Wrangling***"
      ],
      "metadata": {
        "id": "dauF4eBmngu3"
      }
    },
    {
      "cell_type": "markdown",
      "source": [
        "### Data Wrangling Code"
      ],
      "metadata": {
        "id": "bKJF3rekwFvQ"
      }
    },
    {
      "cell_type": "code",
      "source": [
        "# Write your code to make your dataset analysis ready.\n",
        "\n",
        "# Did it below"
      ],
      "metadata": {
        "id": "wk-9a2fpoLcV"
      },
      "execution_count": null,
      "outputs": []
    },
    {
      "cell_type": "code",
      "source": [
        "#checking for unique values in each columns\n",
        "\n",
        "df.nunique().sort_values(ascending=True)"
      ],
      "metadata": {
        "id": "ZdNND3uRnftX"
      },
      "execution_count": null,
      "outputs": []
    },
    {
      "cell_type": "code",
      "source": [
        "# checking datatypes\n",
        "df.info()"
      ],
      "metadata": {
        "id": "xKfyiF7-nmp4"
      },
      "execution_count": null,
      "outputs": []
    },
    {
      "cell_type": "code",
      "source": [
        "# Converting date column from object to date dataype\n",
        "df[\"Date\"] = pd.to_datetime(df[\"Date\"],dayfirst=True)\n",
        "\n",
        "# Converting Holiday and Functioning day columns to boolean datatype\n",
        "df[\"Holiday\"] = df[\"Holiday\"].astype(bool)\n",
        "df[\"Functioning Day\"] = df[\"Functioning Day\"].astype(bool)"
      ],
      "metadata": {
        "id": "wLZj_exUnzWp"
      },
      "execution_count": null,
      "outputs": []
    },
    {
      "cell_type": "code",
      "source": [
        "df.info()"
      ],
      "metadata": {
        "id": "C8NDiS9EpUR9"
      },
      "execution_count": null,
      "outputs": []
    },
    {
      "cell_type": "code",
      "source": [
        "# checking for missing values\n",
        "\n",
        "df.isnull().sum()"
      ],
      "metadata": {
        "id": "7-o3fGPSpXJ_"
      },
      "execution_count": null,
      "outputs": []
    },
    {
      "cell_type": "code",
      "source": [
        "# checking for duplicated values\n",
        "\n",
        "df.duplicated().sum()"
      ],
      "metadata": {
        "id": "iUgw7A4mpltm"
      },
      "execution_count": null,
      "outputs": []
    },
    {
      "cell_type": "markdown",
      "source": [
        "### What all manipulations have you done and insights you found?"
      ],
      "metadata": {
        "id": "MSa1f5Uengrz"
      }
    },
    {
      "cell_type": "markdown",
      "source": [
        "Answer Here.\n",
        "\n",
        "We have removed duplicated values. We have converted date column to date datatype. Also we have converted Holiday and functioning day to boolean datatype"
      ],
      "metadata": {
        "id": "LbyXE7I1olp8"
      }
    },
    {
      "cell_type": "markdown",
      "source": [
        "## ***4. Data Vizualization, Storytelling & Experimenting with charts : Understand the relationships between variables***"
      ],
      "metadata": {
        "id": "GF8Ens_Soomf"
      }
    },
    {
      "cell_type": "markdown",
      "source": [
        "#### Chart - 1"
      ],
      "metadata": {
        "id": "0wOQAZs5pc--"
      }
    },
    {
      "cell_type": "code",
      "source": [
        "# Chart - 1 visualization code\n",
        "\n",
        "# Histogram\n",
        "plt.hist(df[\"Rented Bike Count\"], bins=20)\n",
        "plt.xlabel(\"Rented Bike Count\")\n",
        "plt.ylabel(\"Frequency\")\n",
        "plt.show()\n",
        "\n",
        "# Boxplot\n",
        "sns.boxplot(x=df[\"Rented Bike Count\"])\n",
        "plt.show()\n",
        "\n",
        "# KDE plot\n",
        "sns.kdeplot(df[\"Rented Bike Count\"], fill=True)\n",
        "plt.xlabel(\"Rented Bike Count\")\n",
        "plt.show()"
      ],
      "metadata": {
        "id": "7v_ESjsspbW7"
      },
      "execution_count": null,
      "outputs": []
    },
    {
      "cell_type": "markdown",
      "source": [
        "##### 1. Why did you pick the specific chart?"
      ],
      "metadata": {
        "id": "K5QZ13OEpz2H"
      }
    },
    {
      "cell_type": "markdown",
      "source": [
        "Answer Here.\n",
        "\n",
        "1) Boxplots -> It helps to identify if any outliers are there. Also the boxplot provided the median value\n",
        "2) Seaborn -> It helps us to find if its a normal distribution or if its right or left skewed. It basically helps us to understand the distribution of data\n",
        "3) Histogram -> It helps us to know spread of data"
      ],
      "metadata": {
        "id": "XESiWehPqBRc"
      }
    },
    {
      "cell_type": "markdown",
      "source": [
        "##### 2. What is/are the insight(s) found from the chart?"
      ],
      "metadata": {
        "id": "lQ7QKXXCp7Bj"
      }
    },
    {
      "cell_type": "markdown",
      "source": [
        "Answer Here\n",
        "\n",
        "1) Histogram: The distribution of rented bike count is skewed to the right with a majority of the values falling between 0-500 and a fewer values falling after 1000.\n",
        "2) Boxplot: The boxplot confirms the presence of some outliers and also shows that the median value of rented bike count is close to 500.\n",
        "3) KDE plot: The KDE plot confirms that the distribution is skewed to the right."
      ],
      "metadata": {
        "id": "C_j1G7yiqdRP"
      }
    },
    {
      "cell_type": "markdown",
      "source": [
        "##### 3. Will the gained insights help creating a positive business impact? \n",
        "Are there any insights that lead to negative growth? Justify with specific reason."
      ],
      "metadata": {
        "id": "448CDAPjqfQr"
      }
    },
    {
      "cell_type": "markdown",
      "source": [
        "Answer Here\n",
        "\n",
        "Yes, Based on the visualization of chart-1, we can come to insights that create positive business impact\n",
        "1) Planing bike availability \n",
        "2) Pricing Strategy\n",
        "3) Maintenance and repair of bike\n"
      ],
      "metadata": {
        "id": "3cspy4FjqxJW"
      }
    },
    {
      "cell_type": "markdown",
      "source": [
        "#### Chart - 2"
      ],
      "metadata": {
        "id": "KSlN3yHqYklG"
      }
    },
    {
      "cell_type": "code",
      "source": [
        "# Chart - 2 visualization code\n",
        "\n",
        "# Set the 'Date' column as the index of the DataFrame\n",
        "df.set_index('Date', inplace=True)\n",
        "\n",
        "# Create a line plot of the 'Rented Bike Count' column\n",
        "plt.figure(figsize=(12,6))\n",
        "sns.lineplot(data=df['Rented Bike Count'], linewidth=2)\n",
        "plt.title('Rented Bike Count Over Time')\n",
        "plt.xlabel('Date')\n",
        "plt.ylabel('Rented Bike Count')\n",
        "plt.show()"
      ],
      "metadata": {
        "id": "R4YgtaqtYklH"
      },
      "execution_count": null,
      "outputs": []
    },
    {
      "cell_type": "markdown",
      "source": [
        "##### 1. Why did you pick the specific chart?"
      ],
      "metadata": {
        "id": "t6dVpIINYklI"
      }
    },
    {
      "cell_type": "markdown",
      "source": [
        "Answer Here.\n",
        "\n",
        "We choose lineplot as bike rental count can change over, a lineplot is useful to see patterns or trends change over time. In this case, we can see increase and decrease in rental counts over different dates in years"
      ],
      "metadata": {
        "id": "5aaW0BYyYklI"
      }
    },
    {
      "cell_type": "markdown",
      "source": [
        "##### 2. What is/are the insight(s) found from the chart?"
      ],
      "metadata": {
        "id": "ijmpgYnKYklI"
      }
    },
    {
      "cell_type": "markdown",
      "source": [
        "Answer Here\n",
        "\n",
        "The trend shows rented bike count increases in month of March through June and peaks in July and August. It gradually decreases at the end of the year. There is a significant dip at end of year that is in month of december."
      ],
      "metadata": {
        "id": "PSx9atu2YklI"
      }
    },
    {
      "cell_type": "markdown",
      "source": [
        "##### 3. Will the gained insights help creating a positive business impact? \n",
        "Are there any insights that lead to negative growth? Justify with specific reason."
      ],
      "metadata": {
        "id": "-JiQyfWJYklI"
      }
    },
    {
      "cell_type": "markdown",
      "source": [
        "Answer Here\n",
        "\n",
        "The business sees that bike rental demand is consistently higher during certain months or seasons, they can allocate more resources towards bike maintenance, increase the number of bikes available for rent, or offer promotional deals during those times to further drive business. On the other hand, if bike rental demand is consistently lower during certain times, the business can adjust their staffing and resource allocation accordingly to optimize efficiency and minimize costs."
      ],
      "metadata": {
        "id": "BcBbebzrYklV"
      }
    },
    {
      "cell_type": "markdown",
      "source": [
        "#### Chart - 3"
      ],
      "metadata": {
        "id": "EM7whBJCYoAo"
      }
    },
    {
      "cell_type": "code",
      "source": [
        "df.columns"
      ],
      "metadata": {
        "id": "VLTZWirc5vYZ"
      },
      "execution_count": null,
      "outputs": []
    },
    {
      "cell_type": "code",
      "source": [
        "# Chart - 3 visualization code\n",
        "\n",
        "sns.set_style(\"whitegrid\")\n",
        "plt.figure(figsize=(12,6))\n",
        "sns.lineplot(data=df, x=\"Hour\", y=\"Rented Bike Count\")\n",
        "plt.title(\"Rental Counts by Hour\")\n",
        "plt.xlabel(\"Hour\")\n",
        "plt.ylabel(\"Rental Count\")\n",
        "plt.show()"
      ],
      "metadata": {
        "id": "t6GMdE67YoAp"
      },
      "execution_count": null,
      "outputs": []
    },
    {
      "cell_type": "markdown",
      "source": [
        "##### 1. Why did you pick the specific chart?"
      ],
      "metadata": {
        "id": "fge-S5ZAYoAp"
      }
    },
    {
      "cell_type": "markdown",
      "source": [
        "Answer Here.\n",
        "\n",
        "Lineplot allows us to see trend. Plotting lineplot allows us to see trend in the bike rental counts over different hours. This helps us to identify different patterns or trends"
      ],
      "metadata": {
        "id": "5dBItgRVYoAp"
      }
    },
    {
      "cell_type": "markdown",
      "source": [
        "##### 2. What is/are the insight(s) found from the chart?"
      ],
      "metadata": {
        "id": "85gYPyotYoAp"
      }
    },
    {
      "cell_type": "markdown",
      "source": [
        "Answer Here\n",
        "\n",
        "Insights which we got from lineplot is that during morning and evening rush hours,the bike rentals see a sharp increase. This suggests that bikes are mostly used for commuting purposes. There is a sharp drop in bike rentals during mid-day hours. "
      ],
      "metadata": {
        "id": "4jstXR6OYoAp"
      }
    },
    {
      "cell_type": "markdown",
      "source": [
        "##### 3. Will the gained insights help creating a positive business impact? \n",
        "Are there any insights that lead to negative growth? Justify with specific reason."
      ],
      "metadata": {
        "id": "RoGjAbkUYoAp"
      }
    },
    {
      "cell_type": "markdown",
      "source": [
        "Answer Here\n",
        "\n",
        "Yes. Insights gained from visualizing distribution of rental counts across different hours can help to create a positive business impact.\n",
        "For example, if there is a high demand for bikes during specific hours, the bike rental company can allocate more resources during those hours to meet the demand and generate more revenue. Additionally, if there are specific hours during which bike rentals are consistently low, the company can offer promotions or incentives to encourage more rentals during those hours and potentially increase revenue."
      ],
      "metadata": {
        "id": "zfJ8IqMcYoAp"
      }
    },
    {
      "cell_type": "markdown",
      "source": [
        "#### Chart - 4"
      ],
      "metadata": {
        "id": "4Of9eVA-YrdM"
      }
    },
    {
      "cell_type": "code",
      "source": [
        "# Chart - 4 visualization code\n",
        "\n",
        "# create a histogram to show the distribution of temperatures\n",
        "sns.set_style(\"whitegrid\")\n",
        "sns.histplot(df['Temperature(°C)'], kde=True)\n",
        "plt.title(\"Distribution of Temperatures\")\n",
        "plt.xlabel(\"Temperature (°C)\")\n",
        "plt.ylabel(\"Count\")\n",
        "plt.show()\n",
        "\n",
        "# create a boxplot to show the distribution of temperatures and identify any outliers\n",
        "sns.set_style(\"whitegrid\")\n",
        "sns.boxplot(x=df['Temperature(°C)'])\n",
        "plt.title(\"Distribution of Temperatures\")\n",
        "plt.xlabel(\"Temperature (°C)\")\n",
        "plt.show()"
      ],
      "metadata": {
        "id": "irlUoxc8YrdO"
      },
      "execution_count": null,
      "outputs": []
    },
    {
      "cell_type": "markdown",
      "source": [
        "##### 1. Why did you pick the specific chart?"
      ],
      "metadata": {
        "id": "iky9q4vBYrdO"
      }
    },
    {
      "cell_type": "markdown",
      "source": [
        "Answer Here.\n",
        "\n",
        "Histograms display the frequency distribution, while boxplots can help identify outliers. Both techniques allow for a quick and easy way to visualize the distribution of the data and can help identify any potential issues or patterns in the data."
      ],
      "metadata": {
        "id": "aJRCwT6DYrdO"
      }
    },
    {
      "cell_type": "markdown",
      "source": [
        "##### 2. What is/are the insight(s) found from the chart?"
      ],
      "metadata": {
        "id": "F6T5p64dYrdO"
      }
    },
    {
      "cell_type": "markdown",
      "source": [
        "Answer Here\n",
        "\n",
        "The histogram shows that the temperature data is roughly normally distributed with a peak around 20°C. The boxplot shows that there are no significant outliers in the temperature data."
      ],
      "metadata": {
        "id": "Xx8WAJvtYrdO"
      }
    },
    {
      "cell_type": "markdown",
      "source": [
        "##### 3. Will the gained insights help creating a positive business impact? \n",
        "Are there any insights that lead to negative growth? Justify with specific reason."
      ],
      "metadata": {
        "id": "y-Ehk30pYrdP"
      }
    },
    {
      "cell_type": "markdown",
      "source": [
        "Answer Here\n",
        "Yes.For example, the analysis shows that bike rentals are significantly lower on days with extremely high or low temperatures, the business could adjust its pricing or do promotions. Additionally, the business could make adjustments to its bike fleet to better accommodate extreme temperatures, such as providing more electric bikes on hot days or bikes with more gears on cold days. Overall, these insights could lead to more efficient use of the bike rental service and increased customer satisfaction."
      ],
      "metadata": {
        "id": "jLNxxz7MYrdP"
      }
    },
    {
      "cell_type": "markdown",
      "source": [
        "#### Chart - 5"
      ],
      "metadata": {
        "id": "bamQiAODYuh1"
      }
    },
    {
      "cell_type": "code",
      "source": [
        "# Chart - 5 visualization code\n",
        "\n",
        "# create a histogram to show the distribution of humidity\n",
        "sns.histplot(df['Humidity(%)'])\n",
        "plt.title(\"Distribution of Humidity\")\n",
        "plt.xlabel(\"Humidity (%)\")\n",
        "plt.ylabel(\"Count\")\n",
        "plt.show()\n",
        "\n",
        "# create a boxplot to show the distribution of humidity\n",
        "sns.boxplot(x=\"Humidity(%)\", data=df)\n",
        "plt.title(\"Distribution of Humidity\")\n",
        "plt.xlabel(\"Humidity (%)\")\n",
        "plt.show()"
      ],
      "metadata": {
        "id": "TIJwrbroYuh3"
      },
      "execution_count": null,
      "outputs": []
    },
    {
      "cell_type": "markdown",
      "source": [
        "##### 1. Why did you pick the specific chart?"
      ],
      "metadata": {
        "id": "QHF8YVU7Yuh3"
      }
    },
    {
      "cell_type": "markdown",
      "source": [
        "Answer Here.\n",
        "\n",
        "A histogram is a good way to visualize the distribution of a continuous variable, such as humidity. A boxplot is used for detecting any outliers. In addition, a boxplot provides information on the median, quartiles, and extreme values of the data.\n",
        "\n",
        "Overall, the combination of a histogram and boxplot can provide a more comprehensive understanding, which can help in identifying any patterns or trends in the data."
      ],
      "metadata": {
        "id": "dcxuIMRPYuh3"
      }
    },
    {
      "cell_type": "markdown",
      "source": [
        "##### 2. What is/are the insight(s) found from the chart?"
      ],
      "metadata": {
        "id": "GwzvFGzlYuh3"
      }
    },
    {
      "cell_type": "markdown",
      "source": [
        "Answer Here\n",
        "\n",
        "We can see that the humidity values are mostly concentrated between 40 and 80. The distribution appears to be slightly skewed to the left.\n",
        "We can say that humidity has a moderate effect on bike rentals, as it is not the most significant factor but still plays a role in determining the demand for bikes.\n"
      ],
      "metadata": {
        "id": "uyqkiB8YYuh3"
      }
    },
    {
      "cell_type": "markdown",
      "source": [
        "##### 3. Will the gained insights help creating a positive business impact? \n",
        "Are there any insights that lead to negative growth? Justify with specific reason."
      ],
      "metadata": {
        "id": "qYpmQ266Yuh3"
      }
    },
    {
      "cell_type": "markdown",
      "source": [
        "Answer Here\n",
        "\n",
        "If there are higher levels of humidity, it could impact the overall riding experience, leading to fewer rentals. Additionally, if humidity levels are consistently high, it may affect the maintenance and supply of the bikes. Therefore, gaining insights into humidity levels can help businesses make informed decisions regarding bike rental operations."
      ],
      "metadata": {
        "id": "_WtzZ_hCYuh4"
      }
    },
    {
      "cell_type": "markdown",
      "source": [
        "#### Chart - 6"
      ],
      "metadata": {
        "id": "OH-pJp9IphqM"
      }
    },
    {
      "cell_type": "code",
      "source": [
        "# Chart - 6 visualization code\n",
        "\n",
        "# create a line plot to show the trend of the seasons column\n",
        "\n",
        "sns.set_style(\"whitegrid\")\n",
        "sns.lineplot(x=\"Seasons\", y=\"Rented Bike Count\", data=df)\n",
        "plt.title(\"Rental Counts by Seasons\")\n",
        "plt.xlabel(\"Seasons\")\n",
        "plt.ylabel(\"Rental Counts\")\n",
        "plt.show()"
      ],
      "metadata": {
        "id": "kuRf4wtuphqN"
      },
      "execution_count": null,
      "outputs": []
    },
    {
      "cell_type": "markdown",
      "source": [
        "##### 1. Why did you pick the specific chart?"
      ],
      "metadata": {
        "id": "bbFf2-_FphqN"
      }
    },
    {
      "cell_type": "markdown",
      "source": [
        "Answer Here.\n",
        "\n",
        "A line plot helps to show how the bike rentals vary over time and can be used to identify any seasonal patterns or trends. In this case, we can see that the bike rentals are highest in the summer season and lowest in the winter season."
      ],
      "metadata": {
        "id": "loh7H2nzphqN"
      }
    },
    {
      "cell_type": "markdown",
      "source": [
        "##### 2. What is/are the insight(s) found from the chart?"
      ],
      "metadata": {
        "id": "_ouA3fa0phqN"
      }
    },
    {
      "cell_type": "markdown",
      "source": [
        "Answer Here\n",
        "\n",
        "The number of bike rentals is highest in the summer season and starts to decline from Autumn season. The demans for bike rentals is lowest in winter season. This insights are important for bike rental company. For example-> They can use this information to adjust their pricing strategy and promorional campaigns to target high demand seasons. Also they can adjust their inventory and maintenance schedules."
      ],
      "metadata": {
        "id": "VECbqPI7phqN"
      }
    },
    {
      "cell_type": "markdown",
      "source": [
        "##### 3. Will the gained insights help creating a positive business impact? \n",
        "Are there any insights that lead to negative growth? Justify with specific reason."
      ],
      "metadata": {
        "id": "Seke61FWphqN"
      }
    },
    {
      "cell_type": "markdown",
      "source": [
        "Answer Here\n",
        "\n",
        "Yes, It can help the business in planning their inventory, staffing, and marketing strategies based on the demand and usage patterns across different seasons. For example, the business can plan to increase their inventory during the peak season and adjust their pricing strategy based on the demand during different seasons. Additionally, they can also plan for seasonal promotions and discounts to attract customers during the off-season."
      ],
      "metadata": {
        "id": "DW4_bGpfphqN"
      }
    },
    {
      "cell_type": "markdown",
      "source": [
        "#### Chart - 7"
      ],
      "metadata": {
        "id": "PIIx-8_IphqN"
      }
    },
    {
      "cell_type": "code",
      "source": [
        "df[\"Holiday\"].value_counts()"
      ],
      "metadata": {
        "id": "waVm0DhFPo-G"
      },
      "execution_count": null,
      "outputs": []
    },
    {
      "cell_type": "code",
      "source": [
        "# Chart - 7 visualization code\n",
        "\n",
        "# create scatter plot with Hour and Temperature as variables\n",
        "sns.scatterplot(data=df, x='Hour', y='Temperature(°C)', hue='Rented Bike Count')\n",
        "plt.title('Rented Bike Count vs Hour and Temperature')\n",
        "plt.show()\n",
        "\n",
        "# create line plot with Hour and Dew point temperature as variables\n",
        "sns.lineplot(data=df, x='Hour', y='Dew point temperature(°C)', hue='Rented Bike Count')\n",
        "plt.title('Rented Bike Count vs Hour and Dew point temperature')\n",
        "plt.show()\n",
        "\n",
        "# create boxplot with Seasons and Rented Bike Count as variables\n",
        "sns.boxplot(data=df, x='Seasons', y='Rented Bike Count')\n",
        "plt.title('Rented Bike Count vs Seasons')\n",
        "plt.show()\n",
        "\n"
      ],
      "metadata": {
        "id": "lqAIGUfyphqO"
      },
      "execution_count": null,
      "outputs": []
    },
    {
      "cell_type": "markdown",
      "source": [
        "##### 1. Why did you pick the specific chart?"
      ],
      "metadata": {
        "id": "t27r6nlMphqO"
      }
    },
    {
      "cell_type": "markdown",
      "source": [
        "Answer Here.\n",
        "\n",
        "We picked these visualizations to explore the relationship between Rented Bike Count and different variables such as Hour, Temperature, Dew point temperature, and Seasons. These charts allow us to identify any patterns or trends in the data and provide insights into how these variables affect the bike rental business. The scatterplot and line plot help us understand how Rented Bike Count varies with Hour and Temperature or Dew point temperature, respectively. The boxplot allows us to compare Rented Bike Count across different seasons. Overall, these charts can provide useful insights for businesses in the bike rental industry."
      ],
      "metadata": {
        "id": "iv6ro40sphqO"
      }
    },
    {
      "cell_type": "markdown",
      "source": [
        "##### 2. What is/are the insight(s) found from the chart?"
      ],
      "metadata": {
        "id": "r2jJGEOYphqO"
      }
    },
    {
      "cell_type": "markdown",
      "source": [
        "Answer Here\n",
        "\n",
        "From the scatter plot, we can see that the number of rented bikes increases during the midday and early evening hours when the temperature is also high. This suggests that people are more likely to rent bikes when the weather is warmer.\n",
        "From the line plot, we can see that the dew point temperature does not seem to have a strong correlation with the number of rented bikes.\n",
        "From the box plot, we can see that the number of rented bikes is highest during the fall season, followed by summer, spring, and winter. This suggests that the weather and climate during fall and summer may be more conducive to biking, while winter may be less attractive due to colder temperatures and potential snowfall."
      ],
      "metadata": {
        "id": "Po6ZPi4hphqO"
      }
    },
    {
      "cell_type": "markdown",
      "source": [
        "##### 3. Will the gained insights help creating a positive business impact? \n",
        "Are there any insights that lead to negative growth? Justify with specific reason."
      ],
      "metadata": {
        "id": "b0JNsNcRphqO"
      }
    },
    {
      "cell_type": "markdown",
      "source": [
        "Answer Here\n",
        "\n",
        "The above visualizations can potentially help create a positive impact on the business by providing insights into the relationship between the rented bike count and the variables of hour, temperature, and dew point temperature. For example, the scatter plot shows that the rented bike count tends to be higher during certain hours of the day and at certain temperature ranges, which could inform decisions about when to offer promotions or increase bike availability. Similarly, the line plot shows how the dew point temperature can affect the rented bike count, which could inform decisions about how to prepare bikes and maintenance schedules for different weather conditions. Overall, these insights could help optimize the bike rental business and potentially increase revenue."
      ],
      "metadata": {
        "id": "xvSq8iUTphqO"
      }
    },
    {
      "cell_type": "markdown",
      "source": [
        "#### Chart - 8"
      ],
      "metadata": {
        "id": "BZR9WyysphqO"
      }
    },
    {
      "cell_type": "code",
      "source": [
        "# Chart - 8 visualization code\n",
        "\n",
        "sns.scatterplot(data=df, x='Hour', y='Rented Bike Count', hue='Seasons')\n",
        "plt.title('Rented Bike Count vs Hour and Seasons')\n",
        "plt.show()\n",
        "sns.lineplot(data=df, x='Hour', y='Temperature(°C)', hue='Seasons')\n",
        "plt.title('Temperature vs Hour and Seasons')\n",
        "plt.show()\n",
        "sns.lineplot(data=df, x='Hour', y='Dew point temperature(°C)', hue='Seasons')\n",
        "plt.title('Dew point temperature vs Hour and Seasons')\n",
        "plt.show()\n",
        "sns.boxplot(data=df, x='Seasons', y='Hour')\n",
        "plt.title('Hour vs Seasons')\n",
        "plt.show()"
      ],
      "metadata": {
        "id": "TdPTWpAVphqO"
      },
      "execution_count": null,
      "outputs": []
    },
    {
      "cell_type": "markdown",
      "source": [
        "##### 1. Why did you pick the specific chart?"
      ],
      "metadata": {
        "id": "jj7wYXLtphqO"
      }
    },
    {
      "cell_type": "markdown",
      "source": [
        "Answer Here.\n",
        "\n",
        "The scatter plot of rented bike count vs hour and seasons was likely chosen to identify the patterns in bike rentals over time, as well as how these patterns may vary by season. This type of chart is useful for identifying any general trends or patterns in the data.\n",
        "\n",
        "The line plots of temperature and dew point temperature vs hour and seasons were likely chosen to explore how weather-related variables may be correlated with bike rentals over time. These charts are useful for identifying any trends or patterns in the data and for exploring the relationships between different variables.\n",
        "The box plot of hour vs seasons was likely chosen to explore how bike rentals are distributed across different seasons, as well as to identify any variations in these patterns over time. This type of chart is useful for visualizing the distribution of data and for identifying any potential outliers."
      ],
      "metadata": {
        "id": "Ob8u6rCTphqO"
      }
    },
    {
      "cell_type": "markdown",
      "source": [
        "##### 2. What is/are the insight(s) found from the chart?"
      ],
      "metadata": {
        "id": "eZrbJ2SmphqO"
      }
    },
    {
      "cell_type": "markdown",
      "source": [
        "Answer Here\n",
        "\n",
        "Scatter plot of rented bike count vs hour and seasons shows that there are more bike rentals during daytime hours with peak usage occuring in late afternoon. There are more rentals during summer season.\n",
        "\n",
        "In lineplot, there appears to be a positive correlation between bike rentals and temperature, with more rentals occurring on warmer days. There also appears to be a negative correlation between bike rentals and dew point temperature, with fewer rentals occurring on days with higher dew points.\n",
        "\n",
        "The box plot of hour vs seasons was likely chosen to explore how bike rentals are distributed across different seasons, as well as to identify any variations in these patterns over time. This type of chart is useful for visualizing the distribution of data and for identifying any potential outliers or anomalies.\n"
      ],
      "metadata": {
        "id": "mZtgC_hjphqO"
      }
    },
    {
      "cell_type": "markdown",
      "source": [
        "##### 3. Will the gained insights help creating a positive business impact? \n",
        "Are there any insights that lead to negative growth? Justify with specific reason."
      ],
      "metadata": {
        "id": "rFu4xreNphqO"
      }
    },
    {
      "cell_type": "markdown",
      "source": [
        "Answer Here\n",
        "\n",
        "The visualizations could provide valuable insights into customer behavior and preferences, as well as the impact of weather and seasonal factors on bike rentals. This information could be used to inform marketing campaigns, pricing strategies, or operational decisions, such as determining when to increase or decrease staffing levels. Overall, the visualizations could help a bike rental business to better understand their customer"
      ],
      "metadata": {
        "id": "ey_0qi68phqO"
      }
    },
    {
      "cell_type": "markdown",
      "source": [
        "#### Chart - 9"
      ],
      "metadata": {
        "id": "YJ55k-q6phqO"
      }
    },
    {
      "cell_type": "code",
      "source": [
        "# Chart - 9 visualization code\n",
        "\n",
        "fig, ax = plt.subplots(1, 3, figsize=(15, 5))\n",
        "\n",
        "ax[0].scatter(df['Temperature(°C)'], df['Humidity(%)'])\n",
        "ax[0].set_xlabel('Temperature(°C)')\n",
        "ax[0].set_ylabel('Humidity(%)')\n",
        "\n",
        "ax[1].scatter(df['Temperature(°C)'], df['Wind speed (m/s)'])\n",
        "ax[1].set_xlabel('Temperature(°C)')\n",
        "ax[1].set_ylabel('Wind speed (m/s)')\n",
        "\n",
        "ax[2].scatter(df['Temperature(°C)'], df['Visibility (10m)'])\n",
        "ax[2].set_xlabel('Temperature(°C)')\n",
        "ax[2].set_ylabel('Visibility (10m)')\n",
        "\n",
        "plt.show()\n",
        "\n",
        "\n",
        "sns.set_style('darkgrid')\n",
        "\n",
        "sns.pairplot(data=df, x_vars=['Humidity(%)', 'Wind speed (m/s)', 'Visibility (10m)'], y_vars=['Temperature(°C)'], height=4)\n",
        "plt.show()"
      ],
      "metadata": {
        "id": "B2aS4O1ophqO"
      },
      "execution_count": null,
      "outputs": []
    },
    {
      "cell_type": "markdown",
      "source": [
        "##### 1. Why did you pick the specific chart?"
      ],
      "metadata": {
        "id": "gCFgpxoyphqP"
      }
    },
    {
      "cell_type": "markdown",
      "source": [
        "Answer Here.\n",
        "\n",
        "Both of these plots will produce scatter plots that show the relationship between temperature and each of the other variables in the dataset. We can use these plots to gain insights into how temperature affects humidity, wind speed, and visibility, and vice versa."
      ],
      "metadata": {
        "id": "TVxDimi2phqP"
      }
    },
    {
      "cell_type": "markdown",
      "source": [
        "##### 2. What is/are the insight(s) found from the chart?"
      ],
      "metadata": {
        "id": "OVtJsKN_phqQ"
      }
    },
    {
      "cell_type": "markdown",
      "source": [
        "Answer Here\n",
        "\n",
        "From the first set of visualizations, we can see the scatter plots between temperature and other weather-related variables such as humidity, wind speed, and visibility. We can observe that:\n",
        "\n",
        "There is a negative correlation between temperature and humidity. This means that as temperature increases, humidity decreases and vice versa.\n",
        "There is no strong correlation between temperature and wind speed. However, we can see that the wind speed tends to be higher at lower temperatures.\n",
        "There is a positive correlation between temperature and visibility. This means that as temperature increases, visibility tends to increase as well.\n",
        "\n",
        "From the second visualization using the pairplot, we can see the pairwise relationships between temperature and the other variables in the dataset. We can observe that:\n",
        "\n",
        "There is a negative correlation between temperature and humidity, which confirms our observation from the first set of visualizations.\n",
        "There is no significant correlation between temperature and wind speed or visibility. However, we can see that there are some outliers in the dataset with very low visibility values at higher temperatures."
      ],
      "metadata": {
        "id": "ngGi97qjphqQ"
      }
    },
    {
      "cell_type": "markdown",
      "source": [
        "##### 3. Will the gained insights help creating a positive business impact? \n",
        "Are there any insights that lead to negative growth? Justify with specific reason."
      ],
      "metadata": {
        "id": "lssrdh5qphqQ"
      }
    },
    {
      "cell_type": "markdown",
      "source": [
        "Answer Here\n",
        "\n",
        "Yes, For example, a bike-sharing company could use the insights to adjust their operations based on weather conditions, such as increasing the number of bikes available during periods of low humidity or reducing the number of bikes available during periods of high wind speed."
      ],
      "metadata": {
        "id": "tBpY5ekJphqQ"
      }
    },
    {
      "cell_type": "markdown",
      "source": [
        "#### Chart - 10"
      ],
      "metadata": {
        "id": "U2RJ9gkRphqQ"
      }
    },
    {
      "cell_type": "code",
      "source": [
        "# Chart - 10 visualization code\n",
        "\n",
        "# create a scatter plot of humidity vs temperature\n",
        "sns.scatterplot(data=df, x=\"Humidity(%)\", y=\"Temperature(°C)\")\n",
        "\n",
        "# set the title and labels of the plot\n",
        "plt.title(\"Humidity vs Temperature\")\n",
        "plt.xlabel(\"Humidity (%)\")\n",
        "plt.ylabel(\"Temperature (°C)\")\n",
        "\n",
        "# show the plot\n",
        "plt.show()"
      ],
      "metadata": {
        "id": "GM7a4YP4phqQ"
      },
      "execution_count": null,
      "outputs": []
    },
    {
      "cell_type": "markdown",
      "source": [
        "##### 1. Why did you pick the specific chart?"
      ],
      "metadata": {
        "id": "1M8mcRywphqQ"
      }
    },
    {
      "cell_type": "markdown",
      "source": [
        "Answer Here.\n",
        "\n",
        "In this case, we want to see if there is any relationship between humidity and temperature, and if so, how strong that relationship is. The scatter plot allows us to see if there is any clustering or patterns in the data points.\n",
        "Therefore, a scatter plot is a good choice for visualizing the relationship between \"Humidity(%)\" and \"Temperature(°C)\" columns in this dataset."
      ],
      "metadata": {
        "id": "8agQvks0phqQ"
      }
    },
    {
      "cell_type": "markdown",
      "source": [
        "##### 2. What is/are the insight(s) found from the chart?"
      ],
      "metadata": {
        "id": "tgIPom80phqQ"
      }
    },
    {
      "cell_type": "markdown",
      "source": [
        "Answer Here\n",
        "\n",
        "There is a negative correlation between humidity and temperature, which means that as the temperature increases, the humidity decreases and vice versa.\n",
        "There is a wide range of humidity and temperature values in the dataset. We can observe some data points on the top left and bottom right of the plot that are quite isolated from the rest, which might represent some extreme weather conditions.\n",
        "\n",
        "There are more data points in the upper left and lower right quadrants of the plot, which means that there are more data points with high humidity and low temperature and vice versa. This suggests that certain weather conditions are more common than others.\n"
      ],
      "metadata": {
        "id": "Qp13pnNzphqQ"
      }
    },
    {
      "cell_type": "markdown",
      "source": [
        "##### 3. Will the gained insights help creating a positive business impact? \n",
        "Are there any insights that lead to negative growth? Justify with specific reason.\n",
        "\n",
        "\n",
        "\n"
      ],
      "metadata": {
        "id": "JMzcOPDDphqR"
      }
    },
    {
      "cell_type": "markdown",
      "source": [
        "Answer Here\n",
        "\n",
        "From the scatter plot, we can optimize bikes available during different weather condittions. With this visualization, company can make sure that they have enough bikes high demand periods and adjust pricing accordingly. The insights gained from multivariate analysis can be used to make better decisions about resource allocation, marketing strategies, product development, and other business activities."
      ],
      "metadata": {
        "id": "R4Ka1PC2phqR"
      }
    },
    {
      "cell_type": "markdown",
      "source": [
        "#### Chart - 11"
      ],
      "metadata": {
        "id": "x-EpHcCOp1ci"
      }
    },
    {
      "cell_type": "code",
      "source": [
        "# Chart - 11 visualization code\n",
        "\n",
        "sns.scatterplot(x=\"Humidity(%)\", y=\"Temperature(°C)\", hue=\"Seasons\", data=df)\n",
        "plt.title(\"Relationship between Humidity and Temperature by Season\")\n",
        "plt.show()"
      ],
      "metadata": {
        "id": "mAQTIvtqp1cj"
      },
      "execution_count": null,
      "outputs": []
    },
    {
      "cell_type": "markdown",
      "source": [
        "##### 1. Why did you pick the specific chart?"
      ],
      "metadata": {
        "id": "X_VqEhTip1ck"
      }
    },
    {
      "cell_type": "markdown",
      "source": [
        "Answer Here.\n",
        "\n",
        "We used a scatter plot for this multivariate analysis because it is an effective way to visualize the relationship between two continuous variables (in this case, humidity and temperature) while also accounting for a categorical variable (in this case, seasons).\n",
        "The different colors representing each season allowed us to see if there were any patterns or differences in the data by season.\n",
        "They can help us identify patterns and trends in the data"
      ],
      "metadata": {
        "id": "-vsMzt_np1ck"
      }
    },
    {
      "cell_type": "markdown",
      "source": [
        "##### 2. What is/are the insight(s) found from the chart?"
      ],
      "metadata": {
        "id": "8zGJKyg5p1ck"
      }
    },
    {
      "cell_type": "markdown",
      "source": [
        "Answer Here\n",
        "\n",
        "The relationship between humidity and temperature is consistent across all seasons, with a negative correlation between the two variables.\n",
        "\n",
        "The range of humidity and temperature values is consistent across all seasons, with some overlap between seasons.\n",
        "\n",
        "There are more data points for the \"Summer\" and \"Fall\" seasons, which suggests that these seasons are more common than \"Winter\" and \"Spring\"."
      ],
      "metadata": {
        "id": "ZYdMsrqVp1ck"
      }
    },
    {
      "cell_type": "markdown",
      "source": [
        "##### 3. Will the gained insights help creating a positive business impact? \n",
        "Are there any insights that lead to negative growth? Justify with specific reason."
      ],
      "metadata": {
        "id": "PVzmfK_Ep1ck"
      }
    },
    {
      "cell_type": "markdown",
      "source": [
        "Answer Here\n",
        "\n",
        "By understanding how the relationship between humidity and temperature varies by season, they can use this information to make more informed decisions related to their operations and marketing strategies.\n",
        "They can adjust their operations, marketing, and staffing strategies to account for seasonal differences in humidity and temperature. can use this information to better understand how weather conditions may impact their sales and revenue during different seasons. They can use this information to adjust their inventory levels, pricing strategies, and marketing efforts"
      ],
      "metadata": {
        "id": "druuKYZpp1ck"
      }
    },
    {
      "cell_type": "markdown",
      "source": [
        "#### Chart - 12"
      ],
      "metadata": {
        "id": "n3dbpmDWp1ck"
      }
    },
    {
      "cell_type": "code",
      "source": [
        "# Chart - 12 visualization code\n",
        "\n",
        "# Create box plots\n",
        "sns.boxplot(x='Seasons', y='Rented Bike Count', hue='Holiday', data=df)\n",
        "plt.title('Distribution of Bike Rentals by Season and Holiday Status')\n",
        "plt.xlabel('Season')\n",
        "plt.ylabel('Bike Rentals')\n",
        "\n",
        "# Show the plot\n",
        "plt.show()"
      ],
      "metadata": {
        "id": "bwevp1tKp1ck"
      },
      "execution_count": null,
      "outputs": []
    },
    {
      "cell_type": "markdown",
      "source": [
        "##### 1. Why did you pick the specific chart?"
      ],
      "metadata": {
        "id": "ylSl6qgtp1ck"
      }
    },
    {
      "cell_type": "markdown",
      "source": [
        "Answer Here.\n",
        "\n",
        "A box plot is created to visualize the distribution of bike rentals by season and holiday status. In this case, the box plot allows us to compare the distribution of bike rentals across different seasons and holidays, which can provide insight into patterns and trends in bike rental demand. The use of hue with the \"Holiday\" variable also allows for easy comparison of bike rental distributions on holidays versus non-holidays."
      ],
      "metadata": {
        "id": "m2xqNkiQp1ck"
      }
    },
    {
      "cell_type": "markdown",
      "source": [
        "##### 2. What is/are the insight(s) found from the chart?"
      ],
      "metadata": {
        "id": "ZWILFDl5p1ck"
      }
    },
    {
      "cell_type": "markdown",
      "source": [
        "Answer Here\n",
        "\n",
        "\n",
        "Based on the box plot visualization, we can see that the distribution of bike rentals is higher during the summer season, and lower during the winter. We can also see that bike rentals are higher during non-holiday periods compared to holiday periods, except for the winter season where there is not much difference between holiday and non-holiday periods. Additionally, we can see that there are some outliers in the data, indicating some extreme values \n"
      ],
      "metadata": {
        "id": "x-lUsV2mp1ck"
      }
    },
    {
      "cell_type": "markdown",
      "source": [
        "##### 3. Will the gained insights help creating a positive business impact? \n",
        "Are there any insights that lead to negative growth? Justify with specific reason."
      ],
      "metadata": {
        "id": "M7G43BXep1ck"
      }
    },
    {
      "cell_type": "markdown",
      "source": [
        "Answer Here\n",
        "\n",
        "Yes. By analyzing the box plot, we can observe that the median bike rentals are higher in the Summer season and the lowest in the Winter season. This can help businesses to plan their operations accordingly, such as increasing the number of bikes available for rent during the Summer season and reducing the number of bikes during the Winter season to optimize resources and maximize profits. Additionally, the insights on the holiday and non-holiday bike rentals can help businesses to plan promotions and discounts during non-holiday periods to increase bike rentals\n",
        "\n"
      ],
      "metadata": {
        "id": "5wwDJXsLp1cl"
      }
    },
    {
      "cell_type": "markdown",
      "source": [],
      "metadata": {
        "id": "c92WJkZKO0M7"
      }
    },
    {
      "cell_type": "markdown",
      "source": [
        "#### Chart - 13"
      ],
      "metadata": {
        "id": "Ag9LCva-p1cl"
      }
    },
    {
      "cell_type": "code",
      "source": [
        "# Chart - 13 visualization code\n",
        "\n",
        "# Create a scatter plot with 'Rented Bike Count' on the y-axis and 'Wind speed (m/s)' on the x-axis\n",
        "sns.scatterplot(data=df, x='Wind speed (m/s)', y='Rented Bike Count', hue='Functioning Day')\n",
        "\n",
        "# Set plot title and axis labels\n",
        "plt.title('Relationship between Wind Speed and Bike Rentals')\n",
        "plt.xlabel('Wind speed (m/s)')\n",
        "plt.ylabel('Bike Rentals')\n",
        "\n",
        "# Show the plot\n",
        "plt.show()"
      ],
      "metadata": {
        "id": "EUfxeq9-p1cl"
      },
      "execution_count": null,
      "outputs": []
    },
    {
      "cell_type": "markdown",
      "source": [
        "##### 1. Why did you pick the specific chart?"
      ],
      "metadata": {
        "id": "E6MkPsBcp1cl"
      }
    },
    {
      "cell_type": "markdown",
      "source": [
        "Answer Here.\n",
        "\n",
        "We are exploring the relationship between the wind speed and the number of rented bikes. The scatter plot allows us to visually examine the data points and see if there is any pattern or correlation between the two variables."
      ],
      "metadata": {
        "id": "V22bRsFWp1cl"
      }
    },
    {
      "cell_type": "markdown",
      "source": [
        "##### 2. What is/are the insight(s) found from the chart?"
      ],
      "metadata": {
        "id": "2cELzS2fp1cl"
      }
    },
    {
      "cell_type": "markdown",
      "source": [
        "Answer Here\n",
        "\n",
        "The majority of the data points are distributed around wind speeds of 0-5 m/s, which suggests that the wind speed is generally low. For both functioning and non-functioning days, the distribution of rental bike count is higher around wind speeds of 0-5 m/s, indicating that the weather condition with low wind speed is more favorable for bike rentals. For non-functioning days, the rental bike count is more uniformly distributed across different wind speeds as compared to functioning days, which suggests that weather conditions may have a stronger impact on bike rentals on functioning days."
      ],
      "metadata": {
        "id": "ozQPc2_Ip1cl"
      }
    },
    {
      "cell_type": "markdown",
      "source": [
        "##### 3. Will the gained insights help creating a positive business impact? \n",
        "Are there any insights that lead to negative growth? Justify with specific reason."
      ],
      "metadata": {
        "id": "3MPXvC8up1cl"
      }
    },
    {
      "cell_type": "markdown",
      "source": [
        "Answer Here\n",
        "\n",
        "Yes, The insights gained from above visualization can be used to take wise decisions. The visualization shows that the number of rented bikes decreases as the wind speed increases, especially when the wind speed is greater than 5 m/s. This information could be used to adjust the number of bikes available for rental on days with higher wind speeds or to offer discounts on such days to attract more customers."
      ],
      "metadata": {
        "id": "GL8l1tdLp1cl"
      }
    },
    {
      "cell_type": "markdown",
      "source": [
        "#### Chart - 14 - Correlation Heatmap"
      ],
      "metadata": {
        "id": "NC_X3p0fY2L0"
      }
    },
    {
      "cell_type": "code",
      "source": [
        "# Correlation Heatmap visualization code\n",
        "\n",
        "# Calculate the correlation matrix\n",
        "corr_matrix = df.corr()\n",
        "\n",
        "# Plot the correlation heatmap\n",
        "sns.heatmap(corr_matrix, cmap=\"YlGnBu\", annot=True)\n",
        "\n",
        "# Show the plot\n",
        "plt.show()"
      ],
      "metadata": {
        "id": "xyC9zolEZNRQ"
      },
      "execution_count": null,
      "outputs": []
    },
    {
      "cell_type": "markdown",
      "source": [
        "##### 1. Why did you pick the specific chart?"
      ],
      "metadata": {
        "id": "UV0SzAkaZNRQ"
      }
    },
    {
      "cell_type": "markdown",
      "source": [
        "Answer Here.\n",
        "\n",
        "We picked this chart so that we can gain insights into which variables are most important in predicting bike rentals and can use this information to make data-driven decisions."
      ],
      "metadata": {
        "id": "DVPuT8LYZNRQ"
      }
    },
    {
      "cell_type": "markdown",
      "source": [
        "##### 2. What is/are the insight(s) found from the chart?\n",
        "\n"
      ],
      "metadata": {
        "id": "YPEH6qLeZNRQ"
      }
    },
    {
      "cell_type": "markdown",
      "source": [
        "Answer Here\n",
        "\n",
        "From the heatmap, we can see that the most positively correlated variables with the Rented Bike Count are Temperature, Hour, and Solar Radiation. On the other hand, the most negatively correlated variables with the Rented Bike Count are Rainfall, Snowfall, and Humidity.\n",
        "This tells us that the weather has a significant impact on bike rentals, as temperature and solar radiation have a positive correlation, while rainfall and snowfall have a negative correlation. Additionally, the time of day, as indicated by the hour, also has a positive correlation with the Rented Bike Count. These insights can be used to inform business decisions, such as adjusting rental rates based on weather forecasts or increasing bike availability during peak hours."
      ],
      "metadata": {
        "id": "bfSqtnDqZNRR"
      }
    },
    {
      "cell_type": "markdown",
      "source": [
        "#### Chart - 15 - Pair Plot "
      ],
      "metadata": {
        "id": "q29F0dvdveiT"
      }
    },
    {
      "cell_type": "code",
      "source": [
        "# Pair Plot visualization code\n",
        "\n",
        "# Subset the columns you want to analyze\n",
        "cols = ['Rented Bike Count', 'Temperature(°C)', 'Humidity(%)', 'Wind speed (m/s)']\n",
        "\n",
        "# Create the pairplot\n",
        "sns.pairplot(df[cols])"
      ],
      "metadata": {
        "id": "o58-TEIhveiU"
      },
      "execution_count": null,
      "outputs": []
    },
    {
      "cell_type": "markdown",
      "source": [
        "##### 1. Why did you pick the specific chart?"
      ],
      "metadata": {
        "id": "EXh0U9oCveiU"
      }
    },
    {
      "cell_type": "markdown",
      "source": [
        "Answer Here.\n",
        "\n",
        "Using a pairplot allows us to examine the relationships between all of the numerical variables in the dataset at once, making it easier to identify any patterns or trends that may exist."
      ],
      "metadata": {
        "id": "eMmPjTByveiU"
      }
    },
    {
      "cell_type": "markdown",
      "source": [
        "##### 2. What is/are the insight(s) found from the chart?"
      ],
      "metadata": {
        "id": "22aHeOlLveiV"
      }
    },
    {
      "cell_type": "markdown",
      "source": [
        "Answer Here\n",
        "\n",
        "From the pairplot, we can observe that there is a strong positive correlation between temperature and the number of rented bikes. We can also see that the rented bike count tends to be higher during non-holiday days compared to holiday days. Additionally, we can see that the visibility and solar radiation variables do not have a strong correlation with the rented bike count.\n"
      ],
      "metadata": {
        "id": "uPQ8RGwHveiV"
      }
    },
    {
      "cell_type": "markdown",
      "source": [
        "# 6. Feature Engineering & Data Pre-processing"
      ],
      "metadata": {
        "id": "vcelPxKPZJmF"
      }
    },
    {
      "cell_type": "markdown",
      "source": [
        "### 1. Handling Missing Values"
      ],
      "metadata": {
        "id": "umYJUpVBZPyV"
      }
    },
    {
      "cell_type": "code",
      "source": [
        "# Handling Missing Values & Missing Value Imputation\n",
        "\n",
        "df.isnull().sum()\n",
        "\n",
        "# There is no missing values and so missing value imputation not needed"
      ],
      "metadata": {
        "id": "J6J8XavuZI4A"
      },
      "execution_count": null,
      "outputs": []
    },
    {
      "cell_type": "markdown",
      "source": [
        "What all missing value imputation techniques have you used and why did you use those techniques?"
      ],
      "metadata": {
        "id": "1q3kH-hVZocf"
      }
    },
    {
      "cell_type": "code",
      "source": [
        "# No missing values present hence no imputation technique needed"
      ],
      "metadata": {
        "id": "xfmGGnptZiTa"
      },
      "execution_count": null,
      "outputs": []
    },
    {
      "cell_type": "markdown",
      "source": [
        "## 2. Handling Outliers"
      ],
      "metadata": {
        "id": "MKwLWp0waQhL"
      }
    },
    {
      "cell_type": "code",
      "source": [
        "# Calculate the 5th and 95th percentiles of the Rented Bike Count feature\n",
        "\n",
        "# Using percentile techinque\n",
        "\n",
        "lower_percentile = np.percentile(df['Rented Bike Count'], 5)\n",
        "upper_percentile = np.percentile(df['Rented Bike Count'], 95)\n",
        "print(\"Lower percentile:\", lower_percentile)\n",
        "print(\"Upper percentile:\", upper_percentile)\n",
        "\n",
        "# Replace the values below the 5th percentile with the 5th percentile value\n",
        "df.loc[df['Rented Bike Count'] < lower_percentile, 'Rented Bike Count'] = lower_percentile\n",
        "\n",
        "# Replace the values above the 95th percentile with the 95th percentile value\n",
        "df.loc[df['Rented Bike Count'] > upper_percentile, 'Rented Bike Count'] = upper_percentile\n",
        "\n",
        "# Plot the boxplot again to verify the outliers are treated\n",
        "plt.figure(figsize=(10,6))\n",
        "sns.boxplot(x=df['Rented Bike Count'])\n",
        "plt.show()\n",
        "\n",
        "# Using percentile method, we get accuracy score of 78.09175701239441%"
      ],
      "metadata": {
        "id": "7onLlV-Tb1Mq"
      },
      "execution_count": null,
      "outputs": []
    },
    {
      "cell_type": "code",
      "source": [
        "# Outlier detection and treatment using IQR technique\n",
        "\n",
        "# Calculate the IQR (Interquartile Range)\n",
        "#Q1 = np.percentile(df['Rented Bike Count'], 25, interpolation='midpoint')\n",
        "#Q3 = np.percentile(df['Rented Bike Count'], 75, interpolation='midpoint')\n",
        "#IQR = Q3 - Q1\n",
        "#print(\"IQR:\", IQR)\n",
        "\n",
        "# Calculate the upper and lower bounds for outliers detection\n",
        "#lower_bound = Q1 - (1.5 * IQR)\n",
        "#upper_bound = Q3 + (1.5 * IQR)\n",
        "#print(\"Lower bound:\", lower_bound)\n",
        "#print(\"Upper bound:\", upper_bound)\n",
        "\n",
        "# Identify the outliers and remove them from the dataset\n",
        "#outliers = df[(df['Rented Bike Count'] < lower_bound) | (df['Rented Bike Count'] > upper_bound)]\n",
        "#print(\"Number of outliers:\", outliers.shape[0])\n",
        "\n",
        "#df = df[(df['Rented Bike Count'] >= lower_bound) & (df['Rented Bike Count'] <= upper_bound)]\n",
        "\n",
        "# Plot the boxplot again to verify the outliers are removed\n",
        "#plt.figure(figsize=(10,6))\n",
        "#sns.boxplot(x=df['Rented Bike Count'])\n",
        "#plt.show()\n",
        "\n",
        "# Using IQR techinque we get accuracy of 74.20075862467827%"
      ],
      "metadata": {
        "id": "MklawKUShpzs"
      },
      "execution_count": null,
      "outputs": []
    },
    {
      "cell_type": "code",
      "source": [
        "# Outlier detection and Outlier treatment using caping technique\n",
        "\n",
        "# Calculate the upper and lower bounds for capping\n",
        "#Q1 = np.percentile(df['Rented Bike Count'], 25, interpolation='midpoint')\n",
        "#Q3 = np.percentile(df['Rented Bike Count'], 75, interpolation='midpoint')\n",
        "#IQR = Q3 - Q1\n",
        "#print(\"IQR:\", IQR)\n",
        "\n",
        "# Calculate the upper and lower bounds for capping\n",
        "#lower_bound = Q1 - (1.5 * IQR)\n",
        "#upper_bound = Q3 + (1.5 * IQR)\n",
        "#print(\"Lower bound:\", lower_bound)\n",
        "#print(\"Upper bound:\", upper_bound)\n",
        "\n",
        "# Cap the outliers to the upper and lower bounds\n",
        "#df.loc[df['Rented Bike Count'] < lower_bound, 'Rented Bike Count'] = lower_bound\n",
        "#df.loc[df['Rented Bike Count'] > upper_bound, 'Rented Bike Count'] = upper_bound\n",
        "\n",
        "# Plot the boxplot again to verify the outliers are treated\n",
        "#plt.figure(figsize=(10,6))\n",
        "#sns.boxplot(x=df['Rented Bike Count'])\n",
        "#plt.show()\n",
        "\n",
        "# Using capping technique, we got accuracy: 78.08910202467399"
      ],
      "metadata": {
        "id": "XY8Q_1xidqps"
      },
      "execution_count": null,
      "outputs": []
    },
    {
      "cell_type": "markdown",
      "source": [
        "## What all outlier treatment techniques have you used and why did you use those techniques?\n",
        "\n",
        "\n",
        "We used three techniques for outlier detection and outlier treatment whcih are capping, IQR and percentile. Percentile method has given as the highest accuracy. We will use percentile technique. We use this technique when our data is not a normal distribution and data is skewed\n",
        "\n"
      ],
      "metadata": {
        "id": "vSXK4rSLl3fv"
      }
    },
    {
      "cell_type": "code",
      "source": [
        "df.skew()"
      ],
      "metadata": {
        "id": "mEw2PNcWrvNs"
      },
      "execution_count": null,
      "outputs": []
    },
    {
      "cell_type": "markdown",
      "source": [
        "# 3. Categorical Encoding"
      ],
      "metadata": {
        "id": "hjVKre2imVta"
      }
    },
    {
      "cell_type": "code",
      "source": [],
      "metadata": {
        "id": "9PaV9BZrmgj3"
      },
      "execution_count": null,
      "outputs": []
    },
    {
      "cell_type": "markdown",
      "source": [
        "#### What all categorical encoding techniques have you used & why did you use those techniques?\n",
        "\n",
        "We used OneHotEncoder and Label encoder techniques. \n",
        "LabelEncoder can be used to normalize labels. It can also be used to transform non-numerical labels (as long as they are hashable and comparable) to numerical labels. This technique is useful when the categories have an inherent order, such as the seasons (Winter, Spring, Summer, Fall).\n",
        "One-hot encoding is useful because many machine learning algorithms cannot handle categorical variables directly. Instead, they require all variables to be numerical. One-hot encoding transforms categorical variables into numerical variables without introducing any order or ranking between categories.\n"
      ],
      "metadata": {
        "id": "YoObsTNSwRbX"
      }
    },
    {
      "cell_type": "markdown",
      "source": [
        "### 4. Textual Data Preprocessing\n",
        "\n",
        "Not required as we are not working on NLP, Sentiment Analysis, Text Clustering etc.\n",
        "\n"
      ],
      "metadata": {
        "id": "fxWx-WJOxYAU"
      }
    },
    {
      "cell_type": "markdown",
      "source": [
        "### 5. Data Transformation\n",
        "\n",
        "Not needed"
      ],
      "metadata": {
        "id": "VjI1iLh7yukx"
      }
    },
    {
      "cell_type": "markdown",
      "source": [
        "# 6. Data Scaling and Data splitting\n",
        "\n",
        "\n",
        "\n"
      ],
      "metadata": {
        "id": "dWac2B-xzCrj"
      }
    },
    {
      "cell_type": "code",
      "source": [
        "# Split the data into features and target\n",
        "X = df.drop([\"Rented Bike Count\"], axis=1)\n",
        "y = df[\"Rented Bike Count\"]\n",
        "\n",
        "# Split the data into training and testing sets\n",
        "X_train, X_test, y_train, y_test = train_test_split(X, y, test_size=0.2, random_state=42)"
      ],
      "metadata": {
        "id": "uMDDqlQzytiu"
      },
      "execution_count": null,
      "outputs": []
    },
    {
      "cell_type": "code",
      "source": [
        "# Preprocess the data\n",
        "\n",
        "numeric_features = [\"Hour\", \"Temperature(°C)\", \"Humidity(%)\", \"Wind speed (m/s)\", \"Visibility (10m)\", \"Dew point temperature(°C)\", \"Solar Radiation (MJ/m2)\", \"Rainfall(mm)\", \"Snowfall (cm)\"]\n",
        "numeric_transformer = StandardScaler()\n",
        "\n",
        "categorical_features = [\"Seasons\", \"Holiday\", \"Functioning Day\"]\n",
        "categorical_transformer = OneHotEncoder()\n",
        "\n",
        "preprocessor = ColumnTransformer(transformers=[(\"num\", numeric_transformer, numeric_features), (\"cat\", categorical_transformer, categorical_features)])\n",
        "\n"
      ],
      "metadata": {
        "id": "nnM_coR1W8e9"
      },
      "execution_count": null,
      "outputs": []
    },
    {
      "cell_type": "markdown",
      "source": [
        "# 7. ML Model Implementation"
      ],
      "metadata": {
        "id": "r5pklO6WnVsj"
      }
    },
    {
      "cell_type": "code",
      "source": [
        "# Train a random forest regressor\n",
        "rf = RandomForestRegressor(n_estimators=100, max_depth=10, random_state=42)\n",
        "\n",
        "# Train a gradient boosting regressor\n",
        "gb = GradientBoostingRegressor(n_estimators=100, max_depth=10, random_state=42)\n",
        "\n",
        "# Combine the preprocessors and the regressors into separate pipelines\n",
        "rf_pipeline = Pipeline(steps=[(\"preprocessor\", preprocessor), (\"regressor\", rf)])\n",
        "gb_pipeline = Pipeline(steps=[(\"preprocessor\", preprocessor), (\"regressor\", gb)])\n",
        "\n"
      ],
      "metadata": {
        "id": "jC-bkDMoXMdb"
      },
      "execution_count": null,
      "outputs": []
    },
    {
      "cell_type": "code",
      "source": [
        "\n",
        "# Define the parameter grids for each model\n",
        "rf_param_grid = {\n",
        "    'regressor__n_estimators': [50, 100, 200],\n",
        "    'regressor__max_depth': [5, 10, 20],\n",
        "}\n",
        "\n",
        "gb_param_grid = {\n",
        "    'regressor__n_estimators': [50, 100, 200],\n",
        "    'regressor__max_depth': [5, 10, 20],\n",
        "    'regressor__learning_rate': [0.1, 0.5, 1.0],\n",
        "}\n",
        "\n",
        "# Create the GridSearchCV objects for each model\n",
        "rf_grid_search = GridSearchCV(rf_pipeline, rf_param_grid, cv=5, n_jobs=-1)\n",
        "gb_grid_search = GridSearchCV(gb_pipeline, gb_param_grid, cv=5, n_jobs=-1)\n",
        "\n",
        "# Fit the GridSearchCV objects on the training data\n",
        "rf_grid_search.fit(X_train, y_train)\n",
        "gb_grid_search.fit(X_train, y_train)\n",
        "\n",
        "# Print the best hyperparameters and the corresponding scores for each model\n",
        "print(\"Random Forest - Best hyperparameters:\", rf_grid_search.best_params_)\n",
        "print(\"Random Forest - Best score:\", rf_grid_search.best_score_)\n",
        "print(\"Gradient Boosting - Best hyperparameters:\", gb_grid_search.best_params_)\n",
        "print(\"Gradient Boosting - Best score:\", gb_grid_search.best_score_)"
      ],
      "metadata": {
        "id": "VUt4kSzNj_66"
      },
      "execution_count": null,
      "outputs": []
    },
    {
      "cell_type": "code",
      "source": [
        "# Make predictions on the testing set using the best models from each grid search\n",
        "rf_best_model = rf_grid_search.best_estimator_\n",
        "gb_best_model = gb_grid_search.best_estimator_\n",
        "\n",
        "rf_y_pred = rf_best_model.predict(X_test)\n",
        "gb_y_pred = gb_best_model.predict(X_test)\n"
      ],
      "metadata": {
        "id": "GPXn9FXDkDqC"
      },
      "execution_count": null,
      "outputs": []
    },
    {
      "cell_type": "code",
      "source": [
        "# Calculate the accuracy score\n",
        "accuracy_rf = r2_score(y_test, rf_y_pred)\n",
        "print(\"Accuracy (Random Forest):\", accuracy_rf*100)\n",
        "\n",
        "# Calculate the accuracy score\n",
        "accuracy_gb = r2_score(y_test, gb_y_pred)\n",
        "print(\"Accuracy (Random Forest):\", accuracy_gb*100)\n"
      ],
      "metadata": {
        "id": "l0oNu-mSmJJT"
      },
      "execution_count": null,
      "outputs": []
    },
    {
      "cell_type": "markdown",
      "source": [
        "# **Conclusion**"
      ],
      "metadata": {
        "id": "gCX9965dhzqZ"
      }
    },
    {
      "cell_type": "markdown",
      "source": [
        "Write the conclusion here.\n",
        "\n",
        "Through exploratory data analysis and visualizations, we concluded that bike rentals are generally higher during warmer temperatures, lower humidity levels. The time of day also plays a role, with peak rental times occurring during morning and evening rush hours. The seasons also have an impact, with higher rental counts during the summer's season. Overall, the project provides insights into the factors that influence bike rentals, which can be useful for businesses and city planners in improving bike rental programs and infrastructure."
      ],
      "metadata": {
        "id": "Fjb1IsQkh3yE"
      }
    },
    {
      "cell_type": "markdown",
      "source": [
        "### ***Hurrah! You have successfully completed your EDA Capstone Project !!!***"
      ],
      "metadata": {
        "id": "gIfDvo9L0UH2"
      }
    }
  ]
}