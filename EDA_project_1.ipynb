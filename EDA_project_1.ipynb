{
  "nbformat": 4,
  "nbformat_minor": 0,
  "metadata": {
    "colab": {
      "private_outputs": true,
      "provenance": [],
      "collapsed_sections": [
        "w6K7xa23Elo4",
        "8zGJKyg5p1ck",
        "gIfDvo9L0UH2"
      ],
      "include_colab_link": true
    },
    "kernelspec": {
      "name": "python3",
      "display_name": "Python 3"
    },
    "language_info": {
      "name": "python"
    }
  },
  "cells": [
    {
      "cell_type": "markdown",
      "metadata": {
        "id": "view-in-github",
        "colab_type": "text"
      },
      "source": [
        "<a href=\"https://colab.research.google.com/github/Mervin151111/Mervin19/blob/main/EDA_project_1.ipynb\" target=\"_parent\"><img src=\"https://colab.research.google.com/assets/colab-badge.svg\" alt=\"Open In Colab\"/></a>"
      ]
    },
    {
      "cell_type": "markdown",
      "source": [
        "# **Project Name**    - Hotel Booking Analysis\n",
        "\n"
      ],
      "metadata": {
        "id": "vncDsAP0Gaoa"
      }
    },
    {
      "cell_type": "markdown",
      "source": [
        "##### **Project Type**    - EDA\n",
        "##### **Contribution**    - Individual\n",
        "##### **Team Member 1 - Mervin Pereira"
      ],
      "metadata": {
        "id": "beRrZCGUAJYm"
      }
    },
    {
      "cell_type": "markdown",
      "source": [
        "# **Project Summary -**"
      ],
      "metadata": {
        "id": "FJNUwmbgGyua"
      }
    },
    {
      "cell_type": "markdown",
      "source": [
        "Write the summary here within 500-600 words.\n",
        "\n",
        "The hotel booking dataset contains information on hotel bookings, including details on the guests, hotels, and bookings made. It includes information such as the hotel type, whether the booking was canceled, the length of time between the booking and arrival date, the guest's arrival date, the number of nights stayed, the number and age of guests, booking source, customer type, and reservation status. The dataset can be used to analyze trends and patterns in bookings, demographics of guests, pricing strategies, and efficiency of the hotel's booking process. The hotel booking dataset is a comprehensive collection of information related to hotel bookings made over a period of time. The dataset is useful for analyzing trends and patterns in hotel bookings, and can be used to optimize pricing strategies, improve the efficiency of booking processes, and identify customer preferences.\n",
        "\n",
        "The dataset contains information on two types of hotels: resort hotels and city hotels. The information includes whether the booking was canceled or not, the lead time between the booking and arrival date, the guest's arrival date, the number of nights stayed, and the number of guests. Additionally, the dataset contains demographic information on the guests, including their country of origin, the number of adults, children, and babies, and the type of meal requested.\n",
        "\n",
        "The dataset also provides information on the booking channels used, including the market segment and distribution channel. Other data points include whether the guest was a repeated guest, any previous cancellations or bookings, the reserved and assigned room types, the number of booking changes, the deposit type, and the agent associated with the booking. Furthermore, the dataset provides information on the waiting list, customer type, average daily rate (ADR), required car parking spaces, total special requests, and reservation status. The reservation status includes the booking status, such as confirmed or canceled, and the reservation status date.\n",
        "\n",
        "One key feature of the dataset is the lead time between the booking and arrival date. This information can be used to optimize pricing strategies, as hotels can adjust prices based on how far in advance the booking was made. Additionally, the dataset includes information on booking channels, such as travel agencies and online travel agents, that can be used to identify the most effective booking channels for the hotel. The dataset also includes information on the demographics of guests, such as their country of origin and the number of adults, children, and babies. This information can be used to identify the most popular customer segments and tailor marketing strategies accordingly. For example, if a hotel has a high number of guests from a particular country, they may want to target marketing efforts in that country to attract more guests.\n",
        "\n",
        "Another key feature of the dataset is the information on the type of meal requested. This information can be used to optimize the hotel's food and beverage offerings based on customer preferences. Additionally, the information on the type of meal requested can be used to adjust pricing strategies, as hotels may charge different prices based on the type of meal requested.\n",
        "\n",
        "Overall, the hotel booking dataset is a comprehensive collection of information on hotel bookings that can be used to optimize pricing strategies, improve booking processes, and identify customer preferences. The dataset is useful for hotel managers, revenue managers, and marketing teams looking to gain insights into hotel bookings and customer demographics."
      ],
      "metadata": {
        "id": "F6v_1wHtG2nS"
      }
    },
    {
      "cell_type": "markdown",
      "source": [
        "# **GitHub Link -**"
      ],
      "metadata": {
        "id": "w6K7xa23Elo4"
      }
    },
    {
      "cell_type": "markdown",
      "source": [
        "Provide your GitHub Link here."
      ],
      "metadata": {
        "id": "h1o69JH3Eqqn"
      }
    },
    {
      "cell_type": "markdown",
      "source": [
        "# **Problem Statement**\n"
      ],
      "metadata": {
        "id": "yQaldy8SH6Dl"
      }
    },
    {
      "cell_type": "markdown",
      "source": [
        "**Write Problem Statement Here.**\n",
        "\n",
        "The goal appears to be to gain insights into the data, such as understanding the distribution of guests by hotel type, the proportion of canceled bookings, the percentage of repeated guests, the distribution of guests by country, the number of booking changes, the top 10 agents by number of bookings, and the months with the highest number of visitors."
      ],
      "metadata": {
        "id": "DpeJGUA3kjGy"
      }
    },
    {
      "cell_type": "markdown",
      "source": [
        "#### **Define Your Business Objective?**"
      ],
      "metadata": {
        "id": "PH-0ReGfmX4f"
      }
    },
    {
      "cell_type": "markdown",
      "source": [
        "Answer Here."
      ],
      "metadata": {
        "id": "PhDvGCAqmjP1"
      }
    },
    {
      "cell_type": "markdown",
      "source": [
        "# **General Guidelines** : -  \n",
        "\n",
        "The business objective of the analysis appears to be to gain insights into the hotel booking dataset and to visualize some key metrics, such as the number of guests by hotel type, the number of cancellations and non-cancellations, the number of repeated and non-repeated guests, the number of guests by country, the number of booking changes, and the top 10 agents by the number of bookings. Additionally, the objective seems to be to identify the month when the highest number of visitors visit the hotel. Overall, the objective may be to gain a better understanding of the hotel booking patterns, customer behavior, and market trends to make data-driven decisions and optimize business operations"
      ],
      "metadata": {
        "id": "mDgbUHAGgjLW"
      }
    },
    {
      "cell_type": "markdown",
      "source": [
        "1.   Well-structured, formatted, and commented code is required. \n",
        "2.   Exception Handling, Production Grade Code & Deployment Ready Code will be a plus. Those students will be awarded some additional credits. \n",
        "     \n",
        "     The additional credits will have advantages over other students during Star Student selection.\n",
        "       \n",
        "             [ Note: - Deployment Ready Code is defined as, the whole .ipynb notebook should be executable in one go\n",
        "                       without a single error logged. ]\n",
        "\n",
        "3.   Each and every logic should have proper comments.\n",
        "4. You may add as many number of charts you want. Make Sure for each and every chart the following format should be answered.\n",
        "        \n",
        "\n",
        "```\n",
        "# Chart visualization code\n",
        "```\n",
        "            \n",
        "\n",
        "*   Why did you pick the specific chart?\n",
        "*   What is/are the insight(s) found from the chart?\n",
        "* Will the gained insights help creating a positive business impact? \n",
        "Are there any insights that lead to negative growth? Justify with specific reason.\n",
        "\n",
        "5. You have to create at least 20 logical & meaningful charts having important insights.\n",
        "\n",
        "\n",
        "[ Hints : - Do the Vizualization in  a structured way while following \"UBM\" Rule. \n",
        "\n",
        "U - Univariate Analysis,\n",
        "\n",
        "B - Bivariate Analysis (Numerical - Categorical, Numerical - Numerical, Categorical - Categorical)\n",
        "\n",
        "M - Multivariate Analysis\n",
        " ]\n",
        "\n",
        "\n",
        "\n"
      ],
      "metadata": {
        "id": "ZrxVaUj-hHfC"
      }
    },
    {
      "cell_type": "markdown",
      "source": [
        "# ***Let's Begin !***"
      ],
      "metadata": {
        "id": "O_i_v8NEhb9l"
      }
    },
    {
      "cell_type": "markdown",
      "source": [
        "## ***1. Know Your Data***"
      ],
      "metadata": {
        "id": "HhfV-JJviCcP"
      }
    },
    {
      "cell_type": "markdown",
      "source": [
        "### Import Libraries"
      ],
      "metadata": {
        "id": "Y3lxredqlCYt"
      }
    },
    {
      "cell_type": "code",
      "source": [
        "# Import Libraries\n",
        "\n",
        "import pandas as pd\n",
        "import numpy as np\n",
        "import matplotlib.pyplot as plt\n",
        "import seaborn as sns"
      ],
      "metadata": {
        "id": "M8Vqi-pPk-HR"
      },
      "execution_count": null,
      "outputs": []
    },
    {
      "cell_type": "markdown",
      "source": [
        "### Dataset Loading"
      ],
      "metadata": {
        "id": "3RnN4peoiCZX"
      }
    },
    {
      "cell_type": "code",
      "source": [
        "# Load Dataset\n",
        "\n",
        "df = pd.read_csv(\"/content/Hotel Bookings (1).csv\")"
      ],
      "metadata": {
        "id": "4CkvbW_SlZ_R"
      },
      "execution_count": null,
      "outputs": []
    },
    {
      "cell_type": "markdown",
      "source": [
        "### Dataset First View"
      ],
      "metadata": {
        "id": "x71ZqKXriCWQ"
      }
    },
    {
      "cell_type": "code",
      "source": [
        "# Dataset First Look\n",
        "\n",
        "# First 5 rows \n",
        "\n",
        "df.head()"
      ],
      "metadata": {
        "id": "LWNFOSvLl09H"
      },
      "execution_count": null,
      "outputs": []
    },
    {
      "cell_type": "code",
      "source": [
        "# Last 5 rows\n",
        "df.tail()"
      ],
      "metadata": {
        "id": "T3OSTbfXJ8CH"
      },
      "execution_count": null,
      "outputs": []
    },
    {
      "cell_type": "markdown",
      "source": [
        "### Dataset Rows & Columns count"
      ],
      "metadata": {
        "id": "7hBIi_osiCS2"
      }
    },
    {
      "cell_type": "code",
      "source": [
        "# Dataset Rows & Columns count\n",
        "\n",
        "df.shape\n",
        "\n",
        "# There are 14684 rows and 32 columns"
      ],
      "metadata": {
        "id": "Kllu7SJgmLij"
      },
      "execution_count": null,
      "outputs": []
    },
    {
      "cell_type": "markdown",
      "source": [
        "### Dataset Information"
      ],
      "metadata": {
        "id": "JlHwYmJAmNHm"
      }
    },
    {
      "cell_type": "code",
      "source": [
        "# Dataset Info\n",
        "\n",
        "df.info()"
      ],
      "metadata": {
        "id": "e9hRXRi6meOf"
      },
      "execution_count": null,
      "outputs": []
    },
    {
      "cell_type": "markdown",
      "source": [
        "#### Duplicate Values"
      ],
      "metadata": {
        "id": "35m5QtbWiB9F"
      }
    },
    {
      "cell_type": "code",
      "source": [
        "# Dataset Duplicate Value Count\n",
        "\n",
        "df.duplicated().sum()"
      ],
      "metadata": {
        "id": "1sLdpKYkmox0"
      },
      "execution_count": null,
      "outputs": []
    },
    {
      "cell_type": "code",
      "source": [
        "# Removing duplicate values\n",
        "\n",
        "df = df.drop_duplicates(keep=\"first\")"
      ],
      "metadata": {
        "id": "-CsA0YKTKqxo"
      },
      "execution_count": null,
      "outputs": []
    },
    {
      "cell_type": "code",
      "source": [
        "# Dataset Duplicate Value Count\n",
        "\n",
        "df.duplicated().sum()"
      ],
      "metadata": {
        "id": "SGLXwCD9Ktg3"
      },
      "execution_count": null,
      "outputs": []
    },
    {
      "cell_type": "markdown",
      "source": [
        "#### Missing Values/Null Values"
      ],
      "metadata": {
        "id": "PoPl-ycgm1ru"
      }
    },
    {
      "cell_type": "code",
      "source": [
        "# Missing Values/Null Values Count\n",
        "\n",
        "df.isnull().mean()*100"
      ],
      "metadata": {
        "id": "GgHWkxvamxVg"
      },
      "execution_count": null,
      "outputs": []
    },
    {
      "cell_type": "code",
      "source": [
        "# Checking first 25 rows \n",
        "\n",
        "df.head(25)"
      ],
      "metadata": {
        "id": "kubJ901MK5Ff"
      },
      "execution_count": null,
      "outputs": []
    },
    {
      "cell_type": "code",
      "source": [
        "# Columns in our dataset\n",
        "\n",
        "df.columns.values"
      ],
      "metadata": {
        "id": "sbG62ZAvLBD7"
      },
      "execution_count": null,
      "outputs": []
    },
    {
      "cell_type": "code",
      "source": [
        "# Visualizing the missing values\n",
        "\n",
        "# calculate percentage of missing values in each column\n",
        "missing_percent = (df.isnull().mean())*100\n",
        "\n",
        "# create barplot of missing values in percentage\n",
        "plt.figure(figsize=(12, 6))\n",
        "sns.barplot(x=missing_percent.index, y=missing_percent.values, color='red')\n",
        "plt.xticks(rotation=90)\n",
        "plt.xlabel('Features', fontsize=12)\n",
        "plt.ylabel('% Missing', fontsize=12)\n",
        "plt.title('Percentage of Missing Values by Feature', fontsize=15)\n",
        "plt.show()"
      ],
      "metadata": {
        "id": "3q5wnI3om9sJ"
      },
      "execution_count": null,
      "outputs": []
    },
    {
      "cell_type": "markdown",
      "source": [
        "### What did you know about your dataset?"
      ],
      "metadata": {
        "id": "H0kj-8xxnORC"
      }
    },
    {
      "cell_type": "markdown",
      "source": [
        "Answer Here\n",
        "\n",
        "The variables \"company\", \"country\", \"arrival date month\", \"lead time\" and \"agent\" have missing values. \"children\" has a very small percentage of missing values (0.003%), while \"country\" has a relatively high percentage of missing values (40.87%). \"Agent\" has a significantly higher percentage of missing values (13.69%).\n",
        "\n",
        "Based on this information, we can further investigate the dataset to gain more insights"
      ],
      "metadata": {
        "id": "gfoNAAC-nUe_"
      }
    },
    {
      "cell_type": "markdown",
      "source": [
        "## ***2. Understanding Your Variables***"
      ],
      "metadata": {
        "id": "nA9Y7ga8ng1Z"
      }
    },
    {
      "cell_type": "code",
      "source": [
        "# Dataset Columns\n",
        "\n",
        "df.columns"
      ],
      "metadata": {
        "id": "j7xfkqrt5Ag5"
      },
      "execution_count": null,
      "outputs": []
    },
    {
      "cell_type": "code",
      "source": [
        "# Dataset Describe\n",
        "\n",
        "df.describe()"
      ],
      "metadata": {
        "id": "DnOaZdaE5Q5t"
      },
      "execution_count": null,
      "outputs": []
    },
    {
      "cell_type": "markdown",
      "source": [
        "### Variables Description "
      ],
      "metadata": {
        "id": "PBTbrJXOngz2"
      }
    },
    {
      "cell_type": "markdown",
      "source": [
        "Answer Here\n",
        "\n",
        "The table shows statistics for various variables related to hotel bookings that were not canceled. The variables include arrival year, week number, day of month, length of stay in weekend nights and weeknights, number of adults, children, and babies, whether the guest is a repeated guest, number of booking changes, days in waiting list, average daily rate (ADR), and other variables related to pricing, parking spaces, and special requests."
      ],
      "metadata": {
        "id": "aJV4KIxSnxay"
      }
    },
    {
      "cell_type": "markdown",
      "source": [
        "### Check Unique Values for each variable."
      ],
      "metadata": {
        "id": "u3PMJOP6ngxN"
      }
    },
    {
      "cell_type": "code",
      "source": [
        "# Check Unique Values for each variable.\n",
        "\n",
        "# Count unique values in each column\n",
        "unique_counts = df.nunique()\n",
        "\n",
        "# Print the result\n",
        "print(unique_counts)"
      ],
      "metadata": {
        "id": "zms12Yq5n-jE"
      },
      "execution_count": null,
      "outputs": []
    },
    {
      "cell_type": "markdown",
      "source": [
        "## 3. ***Data Wrangling***"
      ],
      "metadata": {
        "id": "dauF4eBmngu3"
      }
    },
    {
      "cell_type": "markdown",
      "source": [
        "### Data Wrangling Code"
      ],
      "metadata": {
        "id": "bKJF3rekwFvQ"
      }
    },
    {
      "cell_type": "code",
      "source": [
        "# Write your code to make your dataset analysis ready.\n",
        "\n",
        "# Calculate the percentage of missing values in each column\n",
        "missing_percentages = df.isna().mean()*100\n",
        "\n",
        "# Print the percentage of missing values for each column\n",
        "print(missing_percentages)\n",
        "\n",
        "# Remove the columns with the highest percentage of missing values\n",
        "df = df.drop(columns=missing_percentages[missing_percentages > 20].index)\n",
        "\n",
        "# Removed columns with more than 20% data missing"
      ],
      "metadata": {
        "id": "wk-9a2fpoLcV"
      },
      "execution_count": null,
      "outputs": []
    },
    {
      "cell_type": "code",
      "source": [
        "df.isna().mean()*100"
      ],
      "metadata": {
        "id": "_mUuhD-XWo8Z"
      },
      "execution_count": null,
      "outputs": []
    },
    {
      "cell_type": "code",
      "source": [
        "# fill missing values in all columns\n",
        "\n",
        "df.fillna(value={'children': 0, 'country': 'Unknown', 'meal': 'Unknown'}, inplace=True)"
      ],
      "metadata": {
        "id": "DkEPC1HPeYi_"
      },
      "execution_count": null,
      "outputs": []
    },
    {
      "cell_type": "code",
      "source": [
        "df.isnull().mean() * 100"
      ],
      "metadata": {
        "id": "9EfyVO40egGj"
      },
      "execution_count": null,
      "outputs": []
    },
    {
      "cell_type": "markdown",
      "source": [
        "### What all manipulations have you done and insights you found?"
      ],
      "metadata": {
        "id": "MSa1f5Uengrz"
      }
    },
    {
      "cell_type": "markdown",
      "source": [
        "Answer Here.\n",
        "\n",
        "We have removed/dropped columns with more than 5% data missing. We have filled the columns using fillna technique. By filling the missing values in the dataset, we were able to retain more data and avoid losing potentially important information. This allowed us to perform more accurate analysis and modeling.\n",
        "\n",
        "After filling the missing values, we could see that the percentage of missing values for each column had significantly decreased."
      ],
      "metadata": {
        "id": "LbyXE7I1olp8"
      }
    },
    {
      "cell_type": "markdown",
      "source": [
        "## ***4. Data Vizualization, Storytelling & Experimenting with charts : Understand the relationships between variables***"
      ],
      "metadata": {
        "id": "GF8Ens_Soomf"
      }
    },
    {
      "cell_type": "markdown",
      "source": [
        "#### Chart - 1"
      ],
      "metadata": {
        "id": "0wOQAZs5pc--"
      }
    },
    {
      "cell_type": "code",
      "source": [
        "# Chart - 1 visualization code \n",
        "\n",
        "\n",
        "# Count the number of guests for each hotel type\n",
        "hotel_counts = df['hotel'].value_counts()\n",
        "\n",
        "# Specify the degree of separation for each slice\n",
        "explode = [0.1 if i == 0 else 0 for i in range(len(hotel_counts))]\n",
        "\n",
        "# Create the pie chart with the explode parameter\n",
        "plt.pie(hotel_counts, labels=hotel_counts.index, autopct='%.2f', explode=explode)\n",
        "plt.title('Guests by Hotel Type')\n",
        "plt.show()\n",
        "\n"
      ],
      "metadata": {
        "id": "7v_ESjsspbW7"
      },
      "execution_count": null,
      "outputs": []
    },
    {
      "cell_type": "markdown",
      "source": [
        "##### 1. Why did you pick the specific chart?\n",
        "\n"
      ],
      "metadata": {
        "id": "K5QZ13OEpz2H"
      }
    },
    {
      "cell_type": "markdown",
      "source": [
        "Answer Here.\n",
        "\n",
        "In the above analysis, we picked a pie chart to visualize the distribution of guests by hotel type. A pie chart is a suitable choice for this analysis because it helps to illustrate the proportion of guests staying in each hotel type, making it easy to compare the number of guests staying at the City Hotel versus the Resort Hotel"
      ],
      "metadata": {
        "id": "XESiWehPqBRc"
      }
    },
    {
      "cell_type": "markdown",
      "source": [
        "##### 2. What is/are the insight(s) found from the chart?\n",
        "\n"
      ],
      "metadata": {
        "id": "lQ7QKXXCp7Bj"
      }
    },
    {
      "cell_type": "markdown",
      "source": [
        "Answer Here\n",
        "\n",
        "The majority of guests (nearly 61%) stayed at the City Hotel, while the remaining guests (about 39%) stayed at the Resort Hotel. This indicates that the City Hotel was more popular among the guests in the dataset. "
      ],
      "metadata": {
        "id": "C_j1G7yiqdRP"
      }
    },
    {
      "cell_type": "markdown",
      "source": [
        "##### 3. Will the gained insights help creating a positive business impact? \n",
        "Are there any insights that lead to negative growth? Justify with specific reason.\n",
        "\n"
      ],
      "metadata": {
        "id": "448CDAPjqfQr"
      }
    },
    {
      "cell_type": "markdown",
      "source": [
        "Answer Here\n",
        "\n",
        "This insight could be useful for hotel management to focus on improving the services and amenities provided by the City Hotel to attract more guests and increase revenue."
      ],
      "metadata": {
        "id": "3cspy4FjqxJW"
      }
    },
    {
      "cell_type": "markdown",
      "source": [
        "#### Chart - 2"
      ],
      "metadata": {
        "id": "KSlN3yHqYklG"
      }
    },
    {
      "cell_type": "code",
      "source": [
        "# Count the number of canceled and not canceled bookings\n",
        "canceled_count = df['is_canceled'].value_counts()[1]\n",
        "not_canceled_count = df['is_canceled'].value_counts()[0]\n",
        "\n",
        "# Print the results\n",
        "print(\"Number of canceled bookings:\", canceled_count)\n",
        "print(\"Number of not canceled bookings:\", not_canceled_count)"
      ],
      "metadata": {
        "id": "16qObFN8ibO8"
      },
      "execution_count": null,
      "outputs": []
    },
    {
      "cell_type": "code",
      "source": [
        "# Chart - 2 visualization code\n",
        "\n",
        "# Count the number of canceled and not canceled bookings\n",
        "num_canceled = df['is_canceled'].sum()\n",
        "num_not_canceled = len(df) - num_canceled\n",
        "\n",
        "# Create a pie chart\n",
        "labels = ['Canceled', 'Not Canceled']\n",
        "sizes = [num_canceled, num_not_canceled]\n",
        "colors = ['red', 'green']\n",
        "explode = [0.1, 0]  # explode the first slice (i.e., \"Canceled\")\n",
        "\n",
        "plt.pie(sizes, labels=labels, colors=colors, autopct='%1.1f%%', startangle=90, explode=explode)\n",
        "plt.axis('equal')\n",
        "plt.title('Proportion of Canceled and Not Canceled Bookings')\n",
        "plt.show()"
      ],
      "metadata": {
        "id": "R4YgtaqtYklH"
      },
      "execution_count": null,
      "outputs": []
    },
    {
      "cell_type": "markdown",
      "source": [
        "##### 1. Why did you pick the specific chart?"
      ],
      "metadata": {
        "id": "t6dVpIINYklI"
      }
    },
    {
      "cell_type": "markdown",
      "source": [
        "Answer Here.\n",
        "\n",
        "The chart was picked to visually represent the number of canceled and not canceled bookings in the dataset, which is a key metric in understanding the overall booking behavior. By presenting this information in a clear and concise manner, it can help to identify patterns or trends in the data that may be useful for future analysis or decision-making."
      ],
      "metadata": {
        "id": "5aaW0BYyYklI"
      }
    },
    {
      "cell_type": "markdown",
      "source": [
        "##### 2. What is/are the insight(s) found from the chart?"
      ],
      "metadata": {
        "id": "ijmpgYnKYklI"
      }
    },
    {
      "cell_type": "markdown",
      "source": [
        "Answer Here\n",
        "\n",
        "Significant number of bookings in the dataset were canceled, as\n",
        "indicated by the higher count of canceled bookings compared to not canceled bookings"
      ],
      "metadata": {
        "id": "PSx9atu2YklI"
      }
    },
    {
      "cell_type": "markdown",
      "source": [
        "##### 3. Will the gained insights help creating a positive business impact? \n",
        "Are there any insights that lead to negative growth? Justify with specific reason."
      ],
      "metadata": {
        "id": "-JiQyfWJYklI"
      }
    },
    {
      "cell_type": "markdown",
      "source": [
        "Answer Here\n",
        "\n",
        "This information can be useful in understanding booking\n",
        "patterns and identifying potential factors that contribute to cancellations, such as hotel policies,customer preferences, or external events."
      ],
      "metadata": {
        "id": "BcBbebzrYklV"
      }
    },
    {
      "cell_type": "markdown",
      "source": [
        "#### Chart - 3"
      ],
      "metadata": {
        "id": "EM7whBJCYoAo"
      }
    },
    {
      "cell_type": "code",
      "source": [
        "# Chart - 3 visualization code\n",
        "\n",
        "# Count the number of repeated and non-repeated guests\n",
        "guest_counts = df['is_repeated_guest'].value_counts()\n",
        "\n",
        "# Calculate the percentage of repeated guests\n",
        "total_guests = guest_counts.sum()\n",
        "repeated_percent = guest_counts[1] / total_guests * 100\n",
        "not_repeated_percent = guest_counts[0] / total_guests * 100\n",
        "\n",
        "# Create the pie chart with separation of each slice\n",
        "labels = ['Repeated Guests', 'Non-Repeated Guests']\n",
        "sizes = [repeated_percent, not_repeated_percent]\n",
        "explode = (0.1, 0)\n",
        "fig1, ax1 = plt.subplots()\n",
        "ax1.pie(sizes, explode=explode, labels=labels, autopct='%1.1f%%',\n",
        "        shadow=True, startangle=90)\n",
        "ax1.axis('equal')  # Equal aspect ratio ensures that pie is drawn as a circle.\n",
        "ax1.set_title('Percentage of Repeated Guests')\n",
        "\n",
        "plt.show()"
      ],
      "metadata": {
        "id": "t6GMdE67YoAp"
      },
      "execution_count": null,
      "outputs": []
    },
    {
      "cell_type": "markdown",
      "source": [
        "##### 1. Why did you pick the specific chart?"
      ],
      "metadata": {
        "id": "fge-S5ZAYoAp"
      }
    },
    {
      "cell_type": "markdown",
      "source": [
        "Answer Here.\n",
        "\n",
        "The chart used for visualizing the count of repeated and non-repeated guests is a pie chart.Pie charts are a suitable visualization for showing proportions or percentages of different categories. In this case, the pie chart shows the percentage of repeated and non-repeated guests."
      ],
      "metadata": {
        "id": "5dBItgRVYoAp"
      }
    },
    {
      "cell_type": "markdown",
      "source": [
        "##### 2. What is/are the insight(s) found from the chart?"
      ],
      "metadata": {
        "id": "85gYPyotYoAp"
      }
    },
    {
      "cell_type": "markdown",
      "source": [
        "Answer Here\n",
        "\n",
        "Relatively small percentage of guests in the dataset were repeated \n",
        "guests, as indicated by the smaller slice of the pie chart representing repeated guests."
      ],
      "metadata": {
        "id": "4jstXR6OYoAp"
      }
    },
    {
      "cell_type": "markdown",
      "source": [
        "##### 3. Will the gained insights help creating a positive business impact? \n",
        "Are there any insights that lead to negative growth? Justify with specific reason."
      ],
      "metadata": {
        "id": "RoGjAbkUYoAp"
      }
    },
    {
      "cell_type": "markdown",
      "source": [
        "Answer Here\n",
        "\n",
        "This information can be useful in understanding \n",
        "guest loyalty and identifying factors that contribute to guest retention, such as hotel amenities, customer service, or loyalty programs."
      ],
      "metadata": {
        "id": "zfJ8IqMcYoAp"
      }
    },
    {
      "cell_type": "markdown",
      "source": [
        "#### Chart - 4"
      ],
      "metadata": {
        "id": "4Of9eVA-YrdM"
      }
    },
    {
      "cell_type": "code",
      "source": [
        "# Chart - 4 visualization code\n",
        "\n",
        "# Count the number of guests by country\n",
        "guest_counts = df['country'].value_counts()\n",
        "\n",
        "# Calculate the percentage of guests from the top 10 countries\n",
        "total_guests = guest_counts.sum()\n",
        "top_10_guests = guest_counts[:10].sum()\n",
        "top_10_percent = top_10_guests / total_guests * 100\n",
        "others_percent = 100 - top_10_percent\n",
        "\n",
        "# Create the pie chart\n",
        "labels = ['Top 10 Countries', 'Others']\n",
        "sizes = [top_10_percent, others_percent]\n",
        "explode = [0.1, 0]  # Explode the first slice by 10%\n",
        "fig1, ax1 = plt.subplots()\n",
        "ax1.pie(sizes, explode=explode, labels=labels, autopct='%1.1f%%',\n",
        "        shadow=True, startangle=90)\n",
        "ax1.axis('equal')  # Equal aspect ratio ensures that pie is drawn as a circle.\n",
        "ax1.set_title('Percentage of Guest Distribution by Country')\n",
        "plt.show()"
      ],
      "metadata": {
        "id": "irlUoxc8YrdO"
      },
      "execution_count": null,
      "outputs": []
    },
    {
      "cell_type": "markdown",
      "source": [
        "##### 1. Why did you pick the specific chart?"
      ],
      "metadata": {
        "id": "iky9q4vBYrdO"
      }
    },
    {
      "cell_type": "markdown",
      "source": [
        "Answer Here.\n",
        "\n",
        "Pie chart can easily show the proportion of guests from the top 10 countries and all other countries. This chart helps to emphasize the slice for the top 10 countries."
      ],
      "metadata": {
        "id": "aJRCwT6DYrdO"
      }
    },
    {
      "cell_type": "markdown",
      "source": [
        "##### 2. What is/are the insight(s) found from the chart?"
      ],
      "metadata": {
        "id": "F6T5p64dYrdO"
      }
    },
    {
      "cell_type": "markdown",
      "source": [
        "Answer Here\n",
        "\n",
        "We get insight from this chart that 82% guest were from top 10 countries."
      ],
      "metadata": {
        "id": "Xx8WAJvtYrdO"
      }
    },
    {
      "cell_type": "markdown",
      "source": [
        "##### 3. Will the gained insights help creating a positive business impact? \n",
        "Are there any insights that lead to negative growth? Justify with specific reason."
      ],
      "metadata": {
        "id": "y-Ehk30pYrdP"
      }
    },
    {
      "cell_type": "markdown",
      "source": [
        "Answer Here\n",
        "\n",
        "The hotel may choose to focus on top 10 countries with a higher number of guests to increase their reach and improve their marketing strategy."
      ],
      "metadata": {
        "id": "jLNxxz7MYrdP"
      }
    },
    {
      "cell_type": "markdown",
      "source": [
        "#### Chart - 5"
      ],
      "metadata": {
        "id": "bamQiAODYuh1"
      }
    },
    {
      "cell_type": "code",
      "source": [
        "# Chart - 5 visualization code\n",
        "\n",
        "# Count the number of guests by country\n",
        "guest_counts = df['country'].value_counts()\n",
        "\n",
        "# Get the top 10 countries with the most guests\n",
        "top_10_countries = guest_counts.head(10)\n",
        "\n",
        "# Plot the bar graph\n",
        "top_10_countries.plot(kind='bar')\n",
        "plt.title('Top 10 Countries with the Most Guests')\n",
        "plt.xlabel('Country')\n",
        "plt.ylabel('Number of Guests')\n",
        "plt.show()"
      ],
      "metadata": {
        "id": "TIJwrbroYuh3"
      },
      "execution_count": null,
      "outputs": []
    },
    {
      "cell_type": "markdown",
      "source": [
        "##### 1. Why did you pick the specific chart?"
      ],
      "metadata": {
        "id": "QHF8YVU7Yuh3"
      }
    },
    {
      "cell_type": "markdown",
      "source": [
        "Answer Here.\n",
        "\n",
        "The bar chart is an effective way to visualize the number of guests from each of the top 10 countries. The chart can show the difference in the number of guests between each country clearly, making it easy to identify which countries have the most guests."
      ],
      "metadata": {
        "id": "dcxuIMRPYuh3"
      }
    },
    {
      "cell_type": "markdown",
      "source": [
        "##### 2. What is/are the insight(s) found from the chart?"
      ],
      "metadata": {
        "id": "GwzvFGzlYuh3"
      }
    },
    {
      "cell_type": "markdown",
      "source": [
        "Answer Here\n",
        "Portugal has the highest number of guests, followed by the United Kingdom and Spain.\n",
        "The number of guests from the top 3 countries is significantly higher than the number of guests from the remaining countries in the top 10."
      ],
      "metadata": {
        "id": "uyqkiB8YYuh3"
      }
    },
    {
      "cell_type": "markdown",
      "source": [
        "##### 3. Will the gained insights help creating a positive business impact? \n",
        "Are there any insights that lead to negative growth? Justify with specific reason.\n",
        "\n"
      ],
      "metadata": {
        "id": "qYpmQ266Yuh3"
      }
    },
    {
      "cell_type": "markdown",
      "source": [
        "Answer Here\n",
        "\n",
        "The chart is useful in identifying the countries with the highest number of guests and can be used for marketing and promotional purposes. The visualization can be used to target the most popular countries and tailor promotions and marketing efforts towards them."
      ],
      "metadata": {
        "id": "_WtzZ_hCYuh4"
      }
    },
    {
      "cell_type": "markdown",
      "source": [
        "#### Chart - 6"
      ],
      "metadata": {
        "id": "OH-pJp9IphqM"
      }
    },
    {
      "cell_type": "code",
      "source": [
        "# Chart - 6 visualization code\n",
        "\n",
        "# Count the number of bookings changed\n",
        "booking_changes_counts = df['booking_changes'].value_counts()\n",
        "\n",
        "# Create the bar plot\n",
        "booking_changes_counts.plot(kind='bar')\n",
        "plt.title('Number of Booking Changes')\n",
        "plt.xlabel('Number of Changes')\n",
        "plt.ylabel('Count')\n",
        "\n",
        "plt.show()"
      ],
      "metadata": {
        "id": "kuRf4wtuphqN"
      },
      "execution_count": null,
      "outputs": []
    },
    {
      "cell_type": "markdown",
      "source": [
        "##### 1. Why did you pick the specific chart?"
      ],
      "metadata": {
        "id": "bbFf2-_FphqN"
      }
    },
    {
      "cell_type": "markdown",
      "source": [
        "Answer Here.\n",
        "\n",
        "We picked a bar chart for this visualization because we want to show the count of booking changes. A bar chart is a good way to display this information as it allows for easy comparison"
      ],
      "metadata": {
        "id": "loh7H2nzphqN"
      }
    },
    {
      "cell_type": "markdown",
      "source": [
        "##### 2. What is/are the insight(s) found from the chart?"
      ],
      "metadata": {
        "id": "_ouA3fa0phqN"
      }
    },
    {
      "cell_type": "markdown",
      "source": [
        "Answer Here\n",
        "\n",
        "The visualization shows the distribution of the number of booking changes made by the customers. From the graph, we can see that most of the customers did not make any changes to their booking, followed by those who made only one change. \n",
        "As the number of changes increases, the count decreases, indicating that there were only a few customers who made many changes \n",
        "to their bookings."
      ],
      "metadata": {
        "id": "VECbqPI7phqN"
      }
    },
    {
      "cell_type": "markdown",
      "source": [
        "##### 3. Will the gained insights help creating a positive business impact? \n",
        "Are there any insights that lead to negative growth? Justify with specific reason."
      ],
      "metadata": {
        "id": "Seke61FWphqN"
      }
    },
    {
      "cell_type": "markdown",
      "source": [
        "Answer Here\n",
        "\n",
        "This information can be useful for the hotel to understand the booking behavior of their customers and make adjustments accordingly."
      ],
      "metadata": {
        "id": "DW4_bGpfphqN"
      }
    },
    {
      "cell_type": "code",
      "source": [
        "df.columns"
      ],
      "metadata": {
        "id": "FSAE91-Yvrtm"
      },
      "execution_count": null,
      "outputs": []
    },
    {
      "cell_type": "markdown",
      "source": [
        "#### Chart - 7"
      ],
      "metadata": {
        "id": "PIIx-8_IphqN"
      }
    },
    {
      "cell_type": "code",
      "source": [
        "# Chart - 7 visualization code\n",
        "\n",
        "# Get the top 10 agents by number of bookings\n",
        "agent_bookings = df[df['agent'].notnull()].groupby('agent')['agent'].count().nlargest(10)\n",
        "\n",
        "# Create the bar plot\n",
        "agent_bookings.plot(kind='bar')\n",
        "plt.title('Top 10 Agents by Number of Bookings')\n",
        "plt.xlabel('Agent ID')\n",
        "plt.ylabel('Number of Bookings')\n",
        "\n",
        "plt.show()\n",
        "\n",
        "# Please note down that Agent ID is provided and not agent name"
      ],
      "metadata": {
        "id": "lqAIGUfyphqO"
      },
      "execution_count": null,
      "outputs": []
    },
    {
      "cell_type": "markdown",
      "source": [
        "##### 1. Why did you pick the specific chart?"
      ],
      "metadata": {
        "id": "t27r6nlMphqO"
      }
    },
    {
      "cell_type": "markdown",
      "source": [
        "Answer Here.\n",
        "\n",
        "We used a bar chart to visualize the number of bookings by the top 10 agents. A bar chart is useful for comparing different categories or groups of data. In this case, we are comparing the number of bookings by different agents. The chart helps to identify which agents have the most bookings, allowing hotel management to evaluate the performance of different agents and potentially make decisions about which agents to prioritize in their business operations."
      ],
      "metadata": {
        "id": "iv6ro40sphqO"
      }
    },
    {
      "cell_type": "markdown",
      "source": [
        "##### 2. What is/are the insight(s) found from the chart?"
      ],
      "metadata": {
        "id": "r2jJGEOYphqO"
      }
    },
    {
      "cell_type": "markdown",
      "source": [
        "Answer Here\n",
        "\n",
        "From the chart, we can see the top 10 agents based on the number of bookings they have made. This can be useful for the hotel management to identify the most successful agents and potentially build a stronger relationship with them. It may also provide insights into which agents are more effective at booking rooms, which can inform marketing and sales strategies."
      ],
      "metadata": {
        "id": "Po6ZPi4hphqO"
      }
    },
    {
      "cell_type": "markdown",
      "source": [
        "##### 3. Will the gained insights help creating a positive business impact? \n",
        "Are there any insights that lead to negative growth? Justify with specific reason."
      ],
      "metadata": {
        "id": "b0JNsNcRphqO"
      }
    },
    {
      "cell_type": "markdown",
      "source": [
        "Answer Here\n",
        "\n",
        "Company can provide more incentives to agents who are booking the highest number of guests. So that it will be otivation to improve performance for other agents. Company can also form a team to check if the agents are facing any issue while doing booking and also company can take agents valueable feedback to improve its guest count in future"
      ],
      "metadata": {
        "id": "xvSq8iUTphqO"
      }
    },
    {
      "cell_type": "markdown",
      "source": [
        "#### Chart - 8"
      ],
      "metadata": {
        "id": "BZR9WyysphqO"
      }
    },
    {
      "cell_type": "code",
      "source": [
        "# Chart - 8 visualization code\n",
        "\n",
        "# Plotting pie and histplot to know the month when highest visitors visit\n",
        "plt.figure(figsize=(12,8))\n",
        "visitor_counts = df[\"arrival_date_month\"].value_counts()\n",
        "labels = visitor_counts.index.tolist()\n",
        "sizes = visitor_counts.values.tolist()\n",
        "explode = [0.1 if x == visitor_counts.idxmax() else 0 for x in labels]  # Explode the highest visitor month by 10%\n",
        "plt.pie(sizes, labels=labels, autopct=\"%.2f\", explode=explode, shadow=True, startangle=90)\n",
        "plt.title('Percentage of Visitors by Month')\n",
        "plt.axis('equal')\n",
        "plt.show()\n",
        "\n"
      ],
      "metadata": {
        "id": "TdPTWpAVphqO"
      },
      "execution_count": null,
      "outputs": []
    },
    {
      "cell_type": "code",
      "source": [
        "df.columns"
      ],
      "metadata": {
        "id": "EeeeOCSsE9K5"
      },
      "execution_count": null,
      "outputs": []
    },
    {
      "cell_type": "markdown",
      "source": [
        "##### 1. Why did you pick the specific chart?"
      ],
      "metadata": {
        "id": "jj7wYXLtphqO"
      }
    },
    {
      "cell_type": "markdown",
      "source": [
        "Answer Here.\n",
        "\n",
        "We used a pie chart to visualize the percentage of visitors by month, as we want to compare the proportion of visitors across different months"
      ],
      "metadata": {
        "id": "Ob8u6rCTphqO"
      }
    },
    {
      "cell_type": "markdown",
      "source": [
        "##### 2. What is/are the insight(s) found from the chart?"
      ],
      "metadata": {
        "id": "eZrbJ2SmphqO"
      }
    },
    {
      "cell_type": "markdown",
      "source": [
        "Answer Here\n",
        "\n",
        " The visualisation shows the percentage of visitors by month, and it appears that August is the month with the highest number of visitors. The pie chart highlights this with an exploded segment for August. The other months have relatively equal proportions, with September and October having slightly lower percentages. Overall, the visualisation suggests that August is the most popular month for visitors to the hotel."
      ],
      "metadata": {
        "id": "mZtgC_hjphqO"
      }
    },
    {
      "cell_type": "markdown",
      "source": [
        "##### 3. Will the gained insights help creating a positive business impact? \n",
        "Are there any insights that lead to negative growth? Justify with specific reason."
      ],
      "metadata": {
        "id": "rFu4xreNphqO"
      }
    },
    {
      "cell_type": "markdown",
      "source": [
        "Answer Here\n",
        "\n",
        "The insights gained from the chart can help the business to make data-driven decisions to improve its performance. For example, the chart shows that the highest number of visitors arrive in a August month, the business can adjust its marketing strategies or plan special events to attract more visitors during other months. This can help increase revenue and improve overall performance. Additionally, understanding the visitor trends can help the business plan staffing and inventory levels, leading to more efficient operations and better customer service. Therefore, the gained insights can potentially have a positive impact on the business."
      ],
      "metadata": {
        "id": "ey_0qi68phqO"
      }
    },
    {
      "cell_type": "markdown",
      "source": [
        "#### Chart - 9"
      ],
      "metadata": {
        "id": "YJ55k-q6phqO"
      }
    },
    {
      "cell_type": "code",
      "source": [
        "# Chart - 9 visualization code\n",
        "\n",
        "plt.figure(figsize=(12,10))\n",
        "plt.hist(df[\"arrival_date_month\"],bins=10)\n",
        "plt.show()"
      ],
      "metadata": {
        "id": "B2aS4O1ophqO"
      },
      "execution_count": null,
      "outputs": []
    },
    {
      "cell_type": "markdown",
      "source": [
        "##### 1. Why did you pick the specific chart?"
      ],
      "metadata": {
        "id": "gCFgpxoyphqP"
      }
    },
    {
      "cell_type": "markdown",
      "source": [
        "Answer Here.\n",
        "\n",
        "The histogram shows the distribution of the arrival months of the guests, with the x-axis showing the months and the y-axis showing the frequency of guests. This chart can be useful in identifying the months with the highest and lowest number of visitors"
      ],
      "metadata": {
        "id": "TVxDimi2phqP"
      }
    },
    {
      "cell_type": "markdown",
      "source": [
        "##### 2. What is/are the insight(s) found from the chart?"
      ],
      "metadata": {
        "id": "OVtJsKN_phqQ"
      }
    },
    {
      "cell_type": "markdown",
      "source": [
        "Answer Here\n",
        "\n",
        "The histogram shows the distribution of the number of visitors over the 12 months of the year. It appears that the months with the highest number of visitors are July. The months with the lowest number of visitors are November, December, January, February, and March. This insight could help the business to adjust its marketing strategies and pricing policies to maximize occupancy during peak months and to attract more guests during the off-season."
      ],
      "metadata": {
        "id": "ngGi97qjphqQ"
      }
    },
    {
      "cell_type": "markdown",
      "source": [
        "##### 3. Will the gained insights help creating a positive business impact? \n",
        "Are there any insights that lead to negative growth? Justify with specific reason."
      ],
      "metadata": {
        "id": "lssrdh5qphqQ"
      }
    },
    {
      "cell_type": "markdown",
      "source": [
        "Answer Here\n",
        "\n",
        "Businesses can adjust their marketing strategy to target the most popular months which are June and July and allocate their resources accordingly, or they can adjust their pricing or staffing levels to meet demand during high-traffic months. Therefore, the insights gained from this chart have the potential to positively impact the business."
      ],
      "metadata": {
        "id": "tBpY5ekJphqQ"
      }
    },
    {
      "cell_type": "markdown",
      "source": [
        "#### Chart - 10"
      ],
      "metadata": {
        "id": "U2RJ9gkRphqQ"
      }
    },
    {
      "cell_type": "code",
      "source": [
        "# Chart - 10 visualization code\n",
        "\n",
        "plt.figure(figsize=(12,10))\n",
        "plt.hist(df[\"arrival_date_week_number\"],bins=54)\n",
        "plt.show()\n"
      ],
      "metadata": {
        "id": "GM7a4YP4phqQ"
      },
      "execution_count": null,
      "outputs": []
    },
    {
      "cell_type": "markdown",
      "source": [
        "##### 1. Why did you pick the specific chart?"
      ],
      "metadata": {
        "id": "1M8mcRywphqQ"
      }
    },
    {
      "cell_type": "markdown",
      "source": [
        "Answer Here.\n",
        "\n",
        "We picked histogram as we can see how many values fall into each bin and get an idea of the overall shape of the distribution."
      ],
      "metadata": {
        "id": "8agQvks0phqQ"
      }
    },
    {
      "cell_type": "markdown",
      "source": [
        "##### 2. What is/are the insight(s) found from the chart?"
      ],
      "metadata": {
        "id": "tgIPom80phqQ"
      }
    },
    {
      "cell_type": "markdown",
      "source": [
        "Answer Here\n",
        "\n",
        "It appears that the number of arrivals is relatively consistent across most weeks of the year, with a slight increase during the summer months (weeks 26-35) and a dip around the end of the year (weeks 52-53)."
      ],
      "metadata": {
        "id": "Qp13pnNzphqQ"
      }
    },
    {
      "cell_type": "markdown",
      "source": [
        "##### 3. Will the gained insights help creating a positive business impact? \n",
        "Are there any insights that lead to negative growth? Justify with specific reason."
      ],
      "metadata": {
        "id": "JMzcOPDDphqR"
      }
    },
    {
      "cell_type": "markdown",
      "source": [
        "Answer Here\n",
        "\n",
        "Yes, Businesses can adjust their marketing strategy to target the most popular weeks which are from 26 to 35 and  allocate their resources accordingly, or they can adjust their pricing or staffing levels to meet demand during high-traffic weeks. Therefore, the insights gained from this chart have the potential to positively impact the business."
      ],
      "metadata": {
        "id": "R4Ka1PC2phqR"
      }
    },
    {
      "cell_type": "markdown",
      "source": [
        "#### Chart - 11"
      ],
      "metadata": {
        "id": "x-EpHcCOp1ci"
      }
    },
    {
      "cell_type": "code",
      "source": [
        "# Chart - 11 visualization code\n",
        "\n",
        "bookings_by_month = df[df['is_canceled'] == 0].groupby('arrival_date_month').size().reset_index(name='num_bookings')\n",
        "\n",
        "# Create a bar chart showing the number of bookings for each month\n",
        "plt.figure(figsize=(15,5))\n",
        "plt.bar(bookings_by_month['arrival_date_month'], bookings_by_month['num_bookings'])\n",
        "\n",
        "plt.xlabel('Month')\n",
        "plt.ylabel('Number of Bookings')\n",
        "plt.title('Total Number of Bookings by Month')\n",
        "plt.show()"
      ],
      "metadata": {
        "id": "mAQTIvtqp1cj"
      },
      "execution_count": null,
      "outputs": []
    },
    {
      "cell_type": "markdown",
      "source": [
        "##### 1. Why did you pick the specific chart?"
      ],
      "metadata": {
        "id": "X_VqEhTip1ck"
      }
    },
    {
      "cell_type": "markdown",
      "source": [
        "Answer Here.\n",
        "\n",
        "This chart was used to visualize the total number of bookings made for each month. It is an effective way to show the monthly trend in the number of bookings and to compare the number of bookings between different months. The bar chart provides a clear visual representation of the data and makes it easy to identify any significant changes or patterns in the booking trend."
      ],
      "metadata": {
        "id": "-vsMzt_np1ck"
      }
    },
    {
      "cell_type": "markdown",
      "source": [
        "##### 2. What is/are the insight(s) found from the chart?"
      ],
      "metadata": {
        "id": "8zGJKyg5p1ck"
      }
    },
    {
      "cell_type": "markdown",
      "source": [
        "Answer Here\n",
        "\n",
        "it reveals that the peak booking months are from April to September, with the highest number of bookings in August. The low booking months are from November to January, with the lowest number of bookings in December."
      ],
      "metadata": {
        "id": "ZYdMsrqVp1ck"
      }
    },
    {
      "cell_type": "markdown",
      "source": [
        "##### 3. Will the gained insights help creating a positive business impact? \n",
        "Are there any insights that lead to negative growth? Justify with specific reason."
      ],
      "metadata": {
        "id": "PVzmfK_Ep1ck"
      }
    },
    {
      "cell_type": "markdown",
      "source": [
        "Answer Here\n",
        "\n",
        "Yes, the insights gained from this visualization can help in creating a positive business impact. By understanding the total number of bookings by month, the hotel management can identify the months with high and low demand and adjust their marketing strategies and pricing accordingly. They can offer promotional packages during low-demand months to attract more guests, and adjust prices during high-demand months to maximize profits. This can ultimately lead to increased revenue and profitability for the business."
      ],
      "metadata": {
        "id": "druuKYZpp1ck"
      }
    },
    {
      "cell_type": "markdown",
      "source": [
        "#### Chart - 12"
      ],
      "metadata": {
        "id": "n3dbpmDWp1ck"
      }
    },
    {
      "cell_type": "code",
      "source": [
        "# Chart - 12 visualization code\n",
        "\n",
        "# Create a line graph showing the number of bookings for each month\n",
        "plt.figure(figsize=(15,5))\n",
        "plt.plot(bookings_by_month['arrival_date_month'], bookings_by_month['num_bookings'])\n",
        "plt.xlabel('Month')\n",
        "plt.ylabel('Number of Bookings')\n",
        "plt.title('Total Number of Bookings by Month')\n",
        "plt.show()"
      ],
      "metadata": {
        "id": "bwevp1tKp1ck"
      },
      "execution_count": null,
      "outputs": []
    },
    {
      "cell_type": "markdown",
      "source": [
        "##### 1. Why did you pick the specific chart?"
      ],
      "metadata": {
        "id": "ylSl6qgtp1ck"
      }
    },
    {
      "cell_type": "markdown",
      "source": [
        "Answer Here.\n",
        "\n",
        "A line graph is a good choice for showing trends over time. In this case, we are plotting the number of bookings for each month, so a line graph allows us to see how the number of bookings changes over time. We can identify any patterns or trends in the data and see if there are any months with consistently high or low numbers of bookings."
      ],
      "metadata": {
        "id": "m2xqNkiQp1ck"
      }
    },
    {
      "cell_type": "markdown",
      "source": [
        "##### 2. What is/are the insight(s) found from the chart?"
      ],
      "metadata": {
        "id": "ZWILFDl5p1ck"
      }
    },
    {
      "cell_type": "markdown",
      "source": [
        "Answer Here\n",
        "\n",
        "The line graph shows the trend of the total number of bookings made each month. It reveals a similar pattern as the bar chart, but it is easier to see the changes in the number of bookings from month to month. The line graph shows that the highest number of bookings are made during the summer months, with a peak in August, and the lowest number of bookings are made in the winter months. This information can be useful for forecasting and resource planning."
      ],
      "metadata": {
        "id": "x-lUsV2mp1ck"
      }
    },
    {
      "cell_type": "markdown",
      "source": [
        "##### 3. Will the gained insights help creating a positive business impact? \n",
        "Are there any insights that lead to negative growth? Justify with specific reason."
      ],
      "metadata": {
        "id": "M7G43BXep1ck"
      }
    },
    {
      "cell_type": "markdown",
      "source": [
        "Answer Here\n",
        "\n",
        "Yes, the insights gained from this visualization can help create a positive business impact. By knowing the trend of the total number of bookings made each month, the business can plan and allocate resources accordingly. For instance, during the summer months, when the bookings are the highest, the business can hire additional staff, arrange for more supplies and inventory, and schedule maintenance tasks accordingly. Additionally, this information can help the business make more informed decisions regarding pricing strategies, promotions, and marketing campaigns."
      ],
      "metadata": {
        "id": "5wwDJXsLp1cl"
      }
    },
    {
      "cell_type": "markdown",
      "source": [
        "#### Chart - 13"
      ],
      "metadata": {
        "id": "Ag9LCva-p1cl"
      }
    },
    {
      "cell_type": "code",
      "source": [
        "df.columns"
      ],
      "metadata": {
        "id": "2NqRTpR25Vp7"
      },
      "execution_count": null,
      "outputs": []
    },
    {
      "cell_type": "code",
      "source": [
        "# Chart - 13 visualization code\n",
        "\n",
        "\n",
        "# Filter the dataset to include only non-canceled bookings\n",
        "df = df[df['is_canceled'] == 0].copy()\n",
        "\n",
        "# Calculate the daily rate for each booking\n",
        "df['daily_rate'] = df['adr'] / (df['stays_in_weekend_nights'] + df['stays_in_week_nights'])\n",
        "\n",
        "# Group the dataset by length of stay and calculate the average daily rate for each group\n",
        "grouped_data = df.groupby('stays_in_week_nights').agg(avg_daily_rate=('daily_rate', 'mean')).reset_index()\n",
        "\n",
        "# Create a line chart to visualize the relationship between length of stay and average daily rate\n",
        "plt.plot(grouped_data['stays_in_week_nights'], grouped_data['avg_daily_rate'], marker='o')\n",
        "plt.xlabel('Length of Stay (Nights)', fontsize=12)\n",
        "plt.ylabel('Average Daily Rate ($)', fontsize=12)\n",
        "plt.title('Relationship Between Length of Stay and Average Daily Rate', fontsize=14)\n",
        "plt.show()"
      ],
      "metadata": {
        "id": "EUfxeq9-p1cl"
      },
      "execution_count": null,
      "outputs": []
    },
    {
      "cell_type": "markdown",
      "source": [
        "##### 1. Why did you pick the specific chart?"
      ],
      "metadata": {
        "id": "E6MkPsBcp1cl"
      }
    },
    {
      "cell_type": "markdown",
      "source": [],
      "metadata": {
        "id": "5NghLkAg9ZCK"
      }
    },
    {
      "cell_type": "markdown",
      "source": [
        "Answer Here.\n",
        "\n",
        "The line chart was used to visualize the relationship between the length of stay and the average daily rate. A line chart is suitable for this purpose because it allows us to plot the trend over a continuous variable (in this case, the length of stay) and easily visualize any patterns or relationships in the data."
      ],
      "metadata": {
        "id": "V22bRsFWp1cl"
      }
    },
    {
      "cell_type": "markdown",
      "source": [
        "##### 2. What is/are the insight(s) found from the chart?"
      ],
      "metadata": {
        "id": "2cELzS2fp1cl"
      }
    },
    {
      "cell_type": "markdown",
      "source": [
        "Answer Here\n",
        "\n",
        "The chart suggests that the average daily rate generally decreases as the length of stay increases, with the steepest drop occurring between one and two nights. This could suggest that hotels are more likely to offer discounts or lower rates for longer stays in order to encourage guests to stay longer. Additionally, the chart shows a slight increase in the average daily rate for stays of six and seven nights, which could indicate that hotels are charging a premium for extended stays beyond a certain point."
      ],
      "metadata": {
        "id": "ozQPc2_Ip1cl"
      }
    },
    {
      "cell_type": "markdown",
      "source": [
        "##### 3. Will the gained insights help creating a positive business impact? \n",
        "Are there any insights that lead to negative growth? Justify with specific reason."
      ],
      "metadata": {
        "id": "3MPXvC8up1cl"
      }
    },
    {
      "cell_type": "markdown",
      "source": [
        "Answer Here\n",
        "\n",
        "Yes, If the hotel sees that customers tend to stay longer when the average daily rate is lower, they could consider adjusting their pricing strategy to offer lower rates for longer stays. This could potentially attract more customers and lead to increased revenue for the hotel. Additionally, understanding the relationship between length of stay and average daily rate could help the hotel make more informed decisions about pricing, promotions, and marketing efforts."
      ],
      "metadata": {
        "id": "GL8l1tdLp1cl"
      }
    },
    {
      "cell_type": "markdown",
      "source": [
        "#### Chart - 14 - Correlation Heatmap"
      ],
      "metadata": {
        "id": "NC_X3p0fY2L0"
      }
    },
    {
      "cell_type": "code",
      "source": [
        "# Correlation Heatmap visualization code\n",
        "\n",
        "# Select the columns for the correlation heatmap\n",
        "corr_cols = ['is_canceled', 'lead_time', 'arrival_date_year', 'arrival_date_week_number',\n",
        "             'stays_in_weekend_nights', 'stays_in_week_nights', 'adults', 'children', 'babies',\n",
        "             'previous_cancellations', 'previous_bookings_not_canceled', 'booking_changes', \n",
        "             'days_in_waiting_list', 'adr', 'required_car_parking_spaces', 'total_of_special_requests']\n",
        "\n",
        "# Create a correlation matrix for the selected columns\n",
        "corr = df[corr_cols].corr()\n",
        "\n",
        "# Create a heatmap of the correlation matrix\n",
        "fig, ax = plt.subplots(figsize=(10,10))\n",
        "sns.heatmap(corr, cmap='coolwarm', annot=True, ax=ax)\n",
        "ax.set_title('Correlation Heatmap')\n",
        "plt.show()"
      ],
      "metadata": {
        "id": "xyC9zolEZNRQ"
      },
      "execution_count": null,
      "outputs": []
    },
    {
      "cell_type": "markdown",
      "source": [
        "##### 1. Why did you pick the specific chart?"
      ],
      "metadata": {
        "id": "UV0SzAkaZNRQ"
      }
    },
    {
      "cell_type": "markdown",
      "source": [
        "Answer Here.\n",
        "\n",
        "We picked a correlation heatmap because it is a useful tool to quickly identify relationships between different variables in a dataset. The heatmap uses colors to represent the strength of correlation, making it easy to see which variables are strongly correlated with each other and which ones are not."
      ],
      "metadata": {
        "id": "DVPuT8LYZNRQ"
      }
    },
    {
      "cell_type": "markdown",
      "source": [
        "##### 2. What is/are the insight(s) found from the chart?"
      ],
      "metadata": {
        "id": "YPEH6qLeZNRQ"
      }
    },
    {
      "cell_type": "markdown",
      "source": [
        "Answer Here\n",
        "\n",
        "From the heatmap, we can see that the highest positive correlation is between the number of adults and the number of stays in week nights. This suggests that when more adults are included in a booking, the length of stay tends to increase as well.\n",
        "\n",
        "We can also see that the strongest negative correlation is between the deposit type and whether a booking was canceled or not. This implies that bookings with a non-refundable deposit are less likely to be canceled."
      ],
      "metadata": {
        "id": "bfSqtnDqZNRR"
      }
    },
    {
      "cell_type": "markdown",
      "source": [
        "#### Chart - 15 - Pair Plot "
      ],
      "metadata": {
        "id": "q29F0dvdveiT"
      }
    },
    {
      "cell_type": "code",
      "source": [
        "# Pair Plot visualization code\n",
        "\n",
        "# Plot a pairplot\n",
        "sns.pairplot(df, hue='hotel', corner=True)"
      ],
      "metadata": {
        "id": "o58-TEIhveiU"
      },
      "execution_count": null,
      "outputs": []
    },
    {
      "cell_type": "markdown",
      "source": [
        "##### 1. Why did you pick the specific chart?"
      ],
      "metadata": {
        "id": "EXh0U9oCveiU"
      }
    },
    {
      "cell_type": "markdown",
      "source": [
        "Answer Here.\n",
        "\n",
        "The pairplot is a useful visualization for exploring the relationships between multiple variables in a dataset. In the case of hotel analysis, there are many variables in the dataset that could potentially be related to each other, so a pairplot can help identify any interesting patterns or correlations."
      ],
      "metadata": {
        "id": "eMmPjTByveiU"
      }
    },
    {
      "cell_type": "markdown",
      "source": [
        "##### 2. What is/are the insight(s) found from the chart?"
      ],
      "metadata": {
        "id": "22aHeOlLveiV"
      }
    },
    {
      "cell_type": "markdown",
      "source": [
        "Answer Here\n",
        "\n",
        "The lead_time variable seems to be positively correlated with is_canceled, meaning that bookings made further in advance are less likely to be canceled. Additionally, there seems to be some correlation between the number of adults and children, which is not surprising. We can also see that there are some distinct clusters for certain features, such as total_of_special_requests and required_car_parking_spaces. Overall, the pair plot provides a useful overview of the relationships between different features, which can help guide further analysis and modeling."
      ],
      "metadata": {
        "id": "uPQ8RGwHveiV"
      }
    },
    {
      "cell_type": "markdown",
      "source": [
        "## **5. Solution to Business Objective**"
      ],
      "metadata": {
        "id": "JcMwzZxoAimU"
      }
    },
    {
      "cell_type": "markdown",
      "source": [
        "#### What do you suggest the client to achieve Business Objective ? \n",
        "Explain Briefly."
      ],
      "metadata": {
        "id": "8G2x9gOozGDZ"
      }
    },
    {
      "cell_type": "markdown",
      "source": [
        "Answer Here.\n",
        "\n",
        "1) Increase occupancy rate: The hotel can work on increasing its occupancy rate by focusing on attracting more bookings during the off-peak season. They can also offer promotions and discounts to encourage more bookings.\n",
        "\n",
        "2) Improve customer experience: The analysis showed that customer satisfaction is correlated with the number of special requests and the length of stay. The hotel can focus on improving the quality of service to increase the number of special requests and encourage guests to stay longer.\n",
        "\n",
        "3) Optimize pricing strategy: The analysis revealed that the average price per night varies by month, so the hotel can adjust its pricing strategy based on the season to maximize revenue. Additionally, they can consider implementing dynamic pricing, which adjusts prices in real-time based on demand.\n",
        "\n",
        "4) Improve booking cancellation policy: The analysis showed that a significant number of bookings are canceled, which can result in lost revenue. The hotel can consider implementing a stricter cancellation policy or offering incentives for guests to not cancel their bookings.\n",
        "\n",
        "5) Target specific customer segments: \n",
        "\n",
        "A) Target customers who book in advance: As the lead time increases, the likelihood of a cancellation decreases. Therefore, it may be beneficial to target customers who book in advance, as they are less likely to cancel their reservations.\n",
        "\n",
        "B) Target customers who have booked before: Repeat customers are valuable for any business, as they are more likely to be loyal and to recommend the hotel to others. Therefore, targeting customers who have booked before and offering them loyalty programs or other incentives may be effective.\n",
        "\n",
        "C) Target customers from countries with high booking rates: The data shows that some countries have higher booking rates than others. Targeting customers from these countries may lead to increased bookings and revenue.\n",
        "\n",
        "D) Target customers who stay longer: Customers who stay for longer periods may be more valuable, as they generate more revenue. Therefore, targeting customers who stay for longer periods may be effective."
      ],
      "metadata": {
        "id": "pASKb0qOza21"
      }
    },
    {
      "cell_type": "markdown",
      "source": [
        "# **Conclusion**"
      ],
      "metadata": {
        "id": "gCX9965dhzqZ"
      }
    },
    {
      "cell_type": "markdown",
      "source": [
        "Write the conclusion here.\n",
        "\n",
        "Based on the analysis of the hotel bookings dataset, several recommendations can be made to improve the hotel's performance. Firstly, the hotel can work on increasing its occupancy rate during the off-peak season by offering promotions and discounts. Secondly, by improving the quality of service, the hotel can encourage guests to stay longer and increase the number of special requests. Additionally, the hotel can optimize its pricing strategy and adjust it based on the season to maximize revenue. By implementing a stricter cancellation policy or offering incentives, the hotel can also reduce the number of canceled bookings and potential lost revenue. Finally, targeting specific customer segments, such as those who book in advance, repeat customers, and customers from countries with high booking rates, can lead to increased bookings and revenue. Overall, by implementing these recommendations, the hotel can improve its performance and profitability."
      ],
      "metadata": {
        "id": "Fjb1IsQkh3yE"
      }
    },
    {
      "cell_type": "markdown",
      "source": [
        "### ***Hurrah! You have successfully completed your EDA Capstone Project !!!***"
      ],
      "metadata": {
        "id": "gIfDvo9L0UH2"
      }
    }
  ]
}